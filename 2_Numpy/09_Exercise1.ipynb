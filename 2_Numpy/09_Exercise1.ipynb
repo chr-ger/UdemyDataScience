{
 "cells": [
  {
   "cell_type": "markdown",
   "metadata": {},
   "source": [
    "# Exercise"
   ]
  },
  {
   "cell_type": "code",
   "execution_count": 30,
   "metadata": {},
   "outputs": [],
   "source": [
    "import numpy as np\n",
    "np.random.seed(0)"
   ]
  },
  {
   "cell_type": "code",
   "execution_count": 31,
   "metadata": {},
   "outputs": [],
   "source": [
    "def array_info(array: np.ndarray) -> None:\n",
    "    print(f\"ndim: {array.ndim}\")\n",
    "    print(f\"shape: {array.shape}\")\n",
    "    print(f\"size: {array.size}\")\n",
    "    print(f\"dtype: {array.dtype}\")\n",
    "    print(f\"values:\\n{array}\\n\")"
   ]
  },
  {
   "cell_type": "markdown",
   "metadata": {},
   "source": [
    "# Exercise 1\n",
    "\n",
    "- Create an array (M) with the size 5x5 by sampling from an uniform int distribution $M_{i,j} \\in [-10, 10]$"
   ]
  },
  {
   "cell_type": "code",
   "execution_count": 32,
   "metadata": {},
   "outputs": [
    {
     "name": "stdout",
     "output_type": "stream",
     "text": [
      "ndim: 2\n",
      "shape: (5, 5)\n",
      "size: 25\n",
      "dtype: int32\n",
      "values:\n",
      "[[  2   5 -10  -7  -7]\n",
      " [ -3  -1   9   8  -6]\n",
      " [ -4   2  -9  -4  -3]\n",
      " [  4   7  -5   3  -2]\n",
      " [ -1  10   9   6   9]]\n",
      "\n"
     ]
    }
   ],
   "source": [
    "#M = np.random.random_integers(low=-10, high=10, size=(5,5)) #DeprecationWarning: This function is deprecated. Please call randint(-10, 10 + 1) instead\n",
    "M = np.random.randint(low=-10, high=10+1, size=(5,5))\n",
    "array_info(M)"
   ]
  },
  {
   "cell_type": "markdown",
   "metadata": {},
   "source": [
    "# Exercise 2\n",
    "\n",
    "- Create an array (N) with the size 5x5 by sampling from an uniform float distribution $M_{i,j} \\in [-10, 10)$"
   ]
  },
  {
   "cell_type": "code",
   "execution_count": 33,
   "metadata": {},
   "outputs": [
    {
     "name": "stdout",
     "output_type": "stream",
     "text": [
      "ndim: 2\n",
      "shape: (5, 5)\n",
      "size: 25\n",
      "dtype: float64\n",
      "values:\n",
      "[[ 9.14310318 -7.19298439  7.40174517 -0.52783909  6.01821504]\n",
      " [ 0.40954959  3.5775906   4.41265309  1.64039584  0.74746459]\n",
      " [ 5.17231249 -7.88184786 -0.52799161 -6.27335313  4.73836354]\n",
      " [-5.66899291 -7.29563653 -3.51717984 -7.00650266 -5.55357223]\n",
      " [-2.27022038  8.05196951 -1.0010002   2.26126916  8.04697166]]\n",
      "\n"
     ]
    }
   ],
   "source": [
    "N = np.random.uniform(low=-10, high=10, size=(5,5))\n",
    "array_info(N)"
   ]
  },
  {
   "cell_type": "markdown",
   "metadata": {},
   "source": [
    "# Exercise 3\n",
    "\n",
    "- Count the number of elements of the matrix M and N where the elements are less than 0"
   ]
  },
  {
   "cell_type": "code",
   "execution_count": 34,
   "metadata": {},
   "outputs": [
    {
     "name": "stdout",
     "output_type": "stream",
     "text": [
      "Number of values less then zero in M: 13\n",
      "Number of values less then zero in N: 12\n"
     ]
    }
   ],
   "source": [
    "M_count = np.count_nonzero(M < 0)\n",
    "N_count = np.count_nonzero(N < 0)\n",
    "print(f\"Number of values less then zero in M: {M_count}\")\n",
    "print(f\"Number of values less then zero in N: {N_count}\")"
   ]
  },
  {
   "cell_type": "markdown",
   "metadata": {},
   "source": [
    "# Exercise 4\n",
    "\n",
    "- Replace all values of the matrix M and N that are less than 0 by 0"
   ]
  },
  {
   "cell_type": "code",
   "execution_count": 35,
   "metadata": {},
   "outputs": [
    {
     "name": "stdout",
     "output_type": "stream",
     "text": [
      "ndim: 2\n",
      "shape: (5, 5)\n",
      "size: 25\n",
      "dtype: int32\n",
      "values:\n",
      "[[ 2  5  0  0  0]\n",
      " [ 0  0  9  8  0]\n",
      " [ 0  2  0  0  0]\n",
      " [ 4  7  0  3  0]\n",
      " [ 0 10  9  6  9]]\n",
      "\n",
      "ndim: 2\n",
      "shape: (5, 5)\n",
      "size: 25\n",
      "dtype: float64\n",
      "values:\n",
      "[[9.14310318 0.         7.40174517 0.         6.01821504]\n",
      " [0.40954959 3.5775906  4.41265309 1.64039584 0.74746459]\n",
      " [5.17231249 0.         0.         0.         4.73836354]\n",
      " [0.         0.         0.         0.         0.        ]\n",
      " [0.         8.05196951 0.         2.26126916 8.04697166]]\n",
      "\n"
     ]
    }
   ],
   "source": [
    "M[M < 0] = 0\n",
    "array_info(M)\n",
    "\n",
    "N_idx = np.where(N < 0)\n",
    "N[N_idx] = 0\n",
    "array_info(N)"
   ]
  },
  {
   "cell_type": "markdown",
   "metadata": {},
   "source": [
    "# Exercise 5\n",
    "\n",
    "- Stack the matrix M and N on the axis=0 to a new matrix O"
   ]
  },
  {
   "cell_type": "code",
   "execution_count": 36,
   "metadata": {},
   "outputs": [
    {
     "name": "stdout",
     "output_type": "stream",
     "text": [
      "ndim: 2\n",
      "shape: (10, 5)\n",
      "size: 50\n",
      "dtype: float64\n",
      "values:\n",
      "[[ 2.          5.          0.          0.          0.        ]\n",
      " [ 0.          0.          9.          8.          0.        ]\n",
      " [ 0.          2.          0.          0.          0.        ]\n",
      " [ 4.          7.          0.          3.          0.        ]\n",
      " [ 0.         10.          9.          6.          9.        ]\n",
      " [ 9.14310318  0.          7.40174517  0.          6.01821504]\n",
      " [ 0.40954959  3.5775906   4.41265309  1.64039584  0.74746459]\n",
      " [ 5.17231249  0.          0.          0.          4.73836354]\n",
      " [ 0.          0.          0.          0.          0.        ]\n",
      " [ 0.          8.05196951  0.          2.26126916  8.04697166]]\n",
      "\n",
      "ndim: 2\n",
      "shape: (10, 5)\n",
      "size: 50\n",
      "dtype: float64\n",
      "values:\n",
      "[[ 2.          5.          0.          0.          0.        ]\n",
      " [ 0.          0.          9.          8.          0.        ]\n",
      " [ 0.          2.          0.          0.          0.        ]\n",
      " [ 4.          7.          0.          3.          0.        ]\n",
      " [ 0.         10.          9.          6.          9.        ]\n",
      " [ 9.14310318  0.          7.40174517  0.          6.01821504]\n",
      " [ 0.40954959  3.5775906   4.41265309  1.64039584  0.74746459]\n",
      " [ 5.17231249  0.          0.          0.          4.73836354]\n",
      " [ 0.          0.          0.          0.          0.        ]\n",
      " [ 0.          8.05196951  0.          2.26126916  8.04697166]]\n",
      "\n"
     ]
    }
   ],
   "source": [
    "O = np.vstack([M,N])\n",
    "array_info(O)\n",
    "\n",
    "P = np.concatenate([M,N], axis=0)\n",
    "array_info(P)"
   ]
  },
  {
   "cell_type": "markdown",
   "metadata": {},
   "source": [
    "# Exercise 6\n",
    "\n",
    "- Multiply the matrix O by np.pi\n",
    "- Compute the cos for each value of the matrix O"
   ]
  },
  {
   "cell_type": "code",
   "execution_count": 37,
   "metadata": {},
   "outputs": [
    {
     "name": "stdout",
     "output_type": "stream",
     "text": [
      "ndim: 2\n",
      "shape: (10, 5)\n",
      "size: 50\n",
      "dtype: float64\n",
      "values:\n",
      "[[ 1.         -1.          1.          1.          1.        ]\n",
      " [ 1.          1.         -1.          1.          1.        ]\n",
      " [ 1.          1.          1.          1.          1.        ]\n",
      " [ 1.         -1.          1.         -1.          1.        ]\n",
      " [ 1.          1.         -1.          1.         -1.        ]\n",
      " [-0.90063323  1.         -0.30379811  1.          0.99836314]\n",
      " [ 0.28034964  0.24135129  0.27097752  0.42690418 -0.70145214]\n",
      " [-0.85702122  1.          1.          1.         -0.68079039]\n",
      " [ 1.          1.          1.          1.          1.        ]\n",
      " [ 1.          0.98670152  1.          0.68163515  0.98913191]]\n",
      "\n"
     ]
    }
   ],
   "source": [
    "O = O * np.pi\n",
    "O = np.cos(O)\n",
    "array_info(O)"
   ]
  }
 ],
 "metadata": {
  "interpreter": {
   "hash": "243bc61009ac3c06a8b45087476b60abf2506a912759ea1a2c38e4670409b10f"
  },
  "kernelspec": {
   "display_name": "Python 3.8.2 ('venv': venv)",
   "language": "python",
   "name": "python3"
  },
  "language_info": {
   "codemirror_mode": {
    "name": "ipython",
    "version": 3
   },
   "file_extension": ".py",
   "mimetype": "text/x-python",
   "name": "python",
   "nbconvert_exporter": "python",
   "pygments_lexer": "ipython3",
   "version": "3.8.2"
  },
  "orig_nbformat": 2
 },
 "nbformat": 4,
 "nbformat_minor": 2
}
