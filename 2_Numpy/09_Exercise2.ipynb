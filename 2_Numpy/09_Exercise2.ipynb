{
 "cells": [
  {
   "cell_type": "markdown",
   "metadata": {},
   "source": [
    "# Exercise"
   ]
  },
  {
   "cell_type": "code",
   "execution_count": 3,
   "metadata": {},
   "outputs": [],
   "source": [
    "import numpy as np\n",
    "np.random.seed(0)"
   ]
  },
  {
   "cell_type": "code",
   "execution_count": 4,
   "metadata": {},
   "outputs": [],
   "source": [
    "def array_info(array: np.ndarray) -> None:\n",
    "    print(f\"ndim: {array.ndim}\")\n",
    "    print(f\"shape: {array.shape}\")\n",
    "    print(f\"size: {array.size}\")\n",
    "    print(f\"dtype: {array.dtype}\")\n",
    "    print(f\"values:\\n{array}\\n\")"
   ]
  },
  {
   "cell_type": "markdown",
   "metadata": {},
   "source": [
    "## Exercise 1\n",
    "\n",
    "- Create an array M of shape (3, 3) with zeros at all entries\n",
    "- Fill the diagonal values with np.pi\n",
    "- Fill the upper triangular (except the diag) with 1\n",
    "- Fill the lower triangular (except the diag) with -1\n",
    "\n",
    "The resulting matrix should have the following values:\n",
    "\n",
    "```python\n",
    "[[ 3.14159265  1.          1.        ]\n",
    " [-1.          3.14159265  1.        ]\n",
    " [-1.         -1.          3.14159265]]\n",
    "```"
   ]
  },
  {
   "cell_type": "code",
   "execution_count": 24,
   "metadata": {},
   "outputs": [
    {
     "name": "stdout",
     "output_type": "stream",
     "text": [
      "ndim: 2\n",
      "shape: (3, 3)\n",
      "size: 9\n",
      "dtype: float16\n",
      "values:\n",
      "[[3.14 0.   0.  ]\n",
      " [0.   3.14 0.  ]\n",
      " [0.   0.   3.14]]\n",
      "\n",
      "ndim: 2\n",
      "shape: (3, 3)\n",
      "size: 9\n",
      "dtype: float16\n",
      "values:\n",
      "[[3.14 1.   1.  ]\n",
      " [0.   3.14 1.  ]\n",
      " [0.   0.   3.14]]\n",
      "\n",
      "ndim: 2\n",
      "shape: (3, 3)\n",
      "size: 9\n",
      "dtype: float16\n",
      "values:\n",
      "[[ 3.14  1.    1.  ]\n",
      " [-1.    3.14  1.  ]\n",
      " [-1.   -1.    3.14]]\n",
      "\n"
     ]
    }
   ],
   "source": [
    "M = np.zeros(shape=(3,3), dtype=np.float16)\n",
    "\n",
    "diag_idx = np.diag_indices_from(M)\n",
    "M[diag_idx] = np.pi\n",
    "array_info(M)\n",
    "\n",
    "triu_idx = np.triu_indices_from(M, k=1)\n",
    "M[triu_idx] = 1\n",
    "array_info(M)\n",
    "\n",
    "tril_idx = np.tril_indices_from(M, k=-1)\n",
    "M[tril_idx] = -1\n",
    "array_info(M)\n"
   ]
  },
  {
   "cell_type": "markdown",
   "metadata": {},
   "source": [
    "## Exercise 2\n",
    "\n",
    "- Get the indicies where the matrix values are greater than or equal to one"
   ]
  },
  {
   "cell_type": "code",
   "execution_count": 28,
   "metadata": {},
   "outputs": [
    {
     "name": "stdout",
     "output_type": "stream",
     "text": [
      "(array([0, 0, 0, 1, 1, 2], dtype=int64), array([0, 1, 2, 1, 2, 2], dtype=int64))\n"
     ]
    }
   ],
   "source": [
    "idx = np.where(M >= 1)\n",
    "print(idx)\n",
    "#array_info(M[idx])"
   ]
  }
 ],
 "metadata": {
  "interpreter": {
   "hash": "243bc61009ac3c06a8b45087476b60abf2506a912759ea1a2c38e4670409b10f"
  },
  "kernelspec": {
   "display_name": "Python 3.8.2 ('venv': venv)",
   "language": "python",
   "name": "python3"
  },
  "language_info": {
   "codemirror_mode": {
    "name": "ipython",
    "version": 3
   },
   "file_extension": ".py",
   "mimetype": "text/x-python",
   "name": "python",
   "nbconvert_exporter": "python",
   "pygments_lexer": "ipython3",
   "version": "3.8.2"
  },
  "orig_nbformat": 2
 },
 "nbformat": 4,
 "nbformat_minor": 2
}
