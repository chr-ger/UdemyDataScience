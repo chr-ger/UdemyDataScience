{
 "cells": [
  {
   "cell_type": "markdown",
   "metadata": {},
   "source": [
    "# Several Important Numpy Functions"
   ]
  },
  {
   "cell_type": "code",
   "execution_count": 121,
   "metadata": {},
   "outputs": [],
   "source": [
    "import numpy as np\n",
    "np.random.seed(0)"
   ]
  },
  {
   "cell_type": "code",
   "execution_count": 122,
   "metadata": {},
   "outputs": [],
   "source": [
    "def array_info(array: np.ndarray) -> None:\n",
    "    print(f\"ndim: {array.ndim}\")\n",
    "    print(f\"shape: {array.shape}\")\n",
    "    print(f\"size: {array.size}\")\n",
    "    print(f\"dtype: {array.dtype}\")\n",
    "    print(f\"values:\\n{array}\\n\")"
   ]
  },
  {
   "cell_type": "code",
   "execution_count": 123,
   "metadata": {},
   "outputs": [],
   "source": [
    "def compare_arrays(a1: np.ndarray, a2: np.ndarray) -> None:\n",
    "    print(a1)\n",
    "    print(a2)"
   ]
  },
  {
   "cell_type": "code",
   "execution_count": 124,
   "metadata": {},
   "outputs": [
    {
     "name": "stdout",
     "output_type": "stream",
     "text": [
      "ndim: 2\n",
      "shape: (2, 2)\n",
      "size: 4\n",
      "dtype: int32\n",
      "values:\n",
      "[[0 1]\n",
      " [2 3]]\n",
      "\n"
     ]
    }
   ],
   "source": [
    "x = np.arange(4).reshape((2, 2))\n",
    "\n",
    "array_info(x)"
   ]
  },
  {
   "cell_type": "markdown",
   "metadata": {},
   "source": [
    "## Axis Related Functions"
   ]
  },
  {
   "cell_type": "markdown",
   "metadata": {},
   "source": [
    "np.moveaxis(a, sources, destinations):\n",
    "\n",
    "This function can be used to rearrange specific dimensions of an array."
   ]
  },
  {
   "cell_type": "code",
   "execution_count": 125,
   "metadata": {},
   "outputs": [
    {
     "name": "stdout",
     "output_type": "stream",
     "text": [
      "[[0 1]\n",
      " [2 3]]\n",
      "[[0 2]\n",
      " [1 3]]\n"
     ]
    }
   ],
   "source": [
    "x_moved = np.moveaxis(x, source=0, destination=1)\n",
    "\n",
    "compare_arrays(x, x_moved)"
   ]
  },
  {
   "cell_type": "markdown",
   "metadata": {},
   "source": [
    "np.transpose(a, axes=None):\n",
    "\n",
    "This function can be used to rearrange all dimensions of an array at once."
   ]
  },
  {
   "cell_type": "code",
   "execution_count": 126,
   "metadata": {},
   "outputs": [
    {
     "name": "stdout",
     "output_type": "stream",
     "text": [
      "[[0 1]\n",
      " [2 3]]\n",
      "[[0 2]\n",
      " [1 3]]\n"
     ]
    }
   ],
   "source": [
    "x_transposed = np.transpose(x)\n",
    "\n",
    "compare_arrays(x, x_transposed)"
   ]
  },
  {
   "cell_type": "code",
   "execution_count": 127,
   "metadata": {},
   "outputs": [
    {
     "name": "stdout",
     "output_type": "stream",
     "text": [
      "[[0 1]\n",
      " [2 3]]\n",
      "[[0 2]\n",
      " [1 3]]\n"
     ]
    }
   ],
   "source": [
    "x_transposed = x.T\n",
    "\n",
    "compare_arrays(x, x_transposed)"
   ]
  },
  {
   "cell_type": "code",
   "execution_count": 128,
   "metadata": {},
   "outputs": [
    {
     "name": "stdout",
     "output_type": "stream",
     "text": [
      "[[0 1]\n",
      " [2 3]]\n",
      "[[2 3]\n",
      " [0 1]]\n"
     ]
    }
   ],
   "source": [
    "x_rolled = np.roll(x, axis=0, shift=-1)\n",
    "\n",
    "compare_arrays(x, x_rolled)"
   ]
  },
  {
   "cell_type": "code",
   "execution_count": 129,
   "metadata": {},
   "outputs": [
    {
     "name": "stdout",
     "output_type": "stream",
     "text": [
      "[[0 1]\n",
      " [2 3]]\n",
      "[[1 0]\n",
      " [3 2]]\n"
     ]
    }
   ],
   "source": [
    "x_rolled = np.roll(x, axis=1, shift=-1)\n",
    "\n",
    "compare_arrays(x, x_rolled)"
   ]
  },
  {
   "cell_type": "markdown",
   "metadata": {},
   "source": [
    "## Indexing\n",
    "\n",
    "If the 2 demensional matrix has the shape (2,3) then the resulting index shape is (2,2,3)  \n",
    "The first 2 is determined by the matrix dimension 2d  \n",
    "The following dimensions are determined by the matrix shape, in this case 2,3  \n",
    "In other words the index shape is a matrix of row and column index matrices of type (2,3) `[[row idx], [col idx]]`   \n",
    "This means if you convert the matrix in an array of row and colum index matrices by accessing `idx[0]` and `idx[1]` you can directly use the returned list of arrays to access the matrix `m[row, col]`  \n",
    "If you want to access a specific matrix element und access the coordinates (starting from zero) in idx[0] and idx[1].  \n",
    "Coordinates: $\\begin{bmatrix} 00 & 01 & 02 \\\\ 10 & 11 & 12 \\end{bmatrix}$  \n",
    "For example accessing the coordinate 10, you access the index shape `idx[0]` and `idx[1]`  with (1,0): `m[idx[0,1,0], idx[1,1,0]]` or `m[tuple(idx[:,1,0])` or `m[row[1,0], col[1,0]]`"
   ]
  },
  {
   "cell_type": "code",
   "execution_count": 130,
   "metadata": {},
   "outputs": [
    {
     "name": "stdout",
     "output_type": "stream",
     "text": [
      "(2, 2, 2)\n",
      "[[[0 0]\n",
      "  [1 1]]\n",
      "\n",
      " [[0 1]\n",
      "  [0 1]]]\n",
      "[array([[0, 0],\n",
      "       [1, 1]]), array([[0, 1],\n",
      "       [0, 1]])]\n",
      "[[0 1]\n",
      " [2 3]]\n",
      "[[0 1]\n",
      " [2 3]]\n",
      "2\n",
      "2\n",
      "2\n"
     ]
    }
   ],
   "source": [
    "idxs = np.indices((2, 2))  #better in this case: row, col = np.indices((2, 2))\n",
    "print(idxs.shape)\n",
    "\n",
    "print(idxs)\n",
    "\n",
    "row = idxs[0]\n",
    "col = idxs[1]\n",
    "print([row, col])\n",
    "\n",
    "print(x)\n",
    "print(x[row, col])\n",
    "\n",
    "print(x[idxs[0, 1, 0], idxs[1, 1, 0]])\n",
    "print(x[row[1,0], col[1,0]])\n",
    "print(x[tuple(idxs[:,1,0])])"
   ]
  },
  {
   "cell_type": "code",
   "execution_count": 131,
   "metadata": {},
   "outputs": [
    {
     "name": "stdout",
     "output_type": "stream",
     "text": [
      "(array([0, 1]), array([0, 1]))\n"
     ]
    }
   ],
   "source": [
    "idxs = np.diag_indices(2)\n",
    "\n",
    "print(idxs)"
   ]
  },
  {
   "cell_type": "code",
   "execution_count": 132,
   "metadata": {},
   "outputs": [
    {
     "name": "stdout",
     "output_type": "stream",
     "text": [
      "(array([0, 1, 1]), array([0, 0, 1]))\n"
     ]
    }
   ],
   "source": [
    "idxs = np.tril_indices(2)\n",
    "\n",
    "print(idxs)"
   ]
  },
  {
   "cell_type": "code",
   "execution_count": 133,
   "metadata": {},
   "outputs": [
    {
     "name": "stdout",
     "output_type": "stream",
     "text": [
      "(array([0, 0, 1]), array([0, 1, 1]))\n"
     ]
    }
   ],
   "source": [
    "idxs = np.triu_indices(2)\n",
    "\n",
    "print(idxs)"
   ]
  },
  {
   "cell_type": "code",
   "execution_count": 134,
   "metadata": {},
   "outputs": [
    {
     "name": "stdout",
     "output_type": "stream",
     "text": [
      "[[False False]\n",
      " [ True  True]]\n",
      "[[0 1]\n",
      " [2 3]]\n",
      "(array([1, 1], dtype=int64), array([0, 1], dtype=int64))\n",
      "[2 3]\n"
     ]
    }
   ],
   "source": [
    "c = (x >= 2)\n",
    "w = np.where(c)\n",
    "\n",
    "print(c)\n",
    "print(x)\n",
    "print(w)\n",
    "print(x[w])"
   ]
  },
  {
   "cell_type": "markdown",
   "metadata": {},
   "source": [
    "## Sorting\n",
    "\n",
    "`np.sort()` returns a sorted copy of the original array  \n",
    "`np.argx()` functions return a indices list that would sort the original array"
   ]
  },
  {
   "cell_type": "code",
   "execution_count": 135,
   "metadata": {},
   "outputs": [
    {
     "name": "stdout",
     "output_type": "stream",
     "text": [
      "ndim: 1\n",
      "shape: (10,)\n",
      "size: 10\n",
      "dtype: int32\n",
      "values:\n",
      "[  2   5 -10  -7  -7  -3  -1   9   8  -6]\n",
      "\n"
     ]
    }
   ],
   "source": [
    "y = np.random.randint(low=-10, high=10, size=10)\n",
    "\n",
    "array_info(y)"
   ]
  },
  {
   "cell_type": "code",
   "execution_count": 136,
   "metadata": {},
   "outputs": [
    {
     "name": "stdout",
     "output_type": "stream",
     "text": [
      "[  2   5 -10  -7  -7  -3  -1   9   8  -6]\n",
      "[-10  -7  -7  -6  -3  -1   2   5   8   9]\n"
     ]
    }
   ],
   "source": [
    "y_sorted = np.sort(y)\n",
    "\n",
    "compare_arrays(y, y_sorted)"
   ]
  },
  {
   "cell_type": "code",
   "execution_count": 137,
   "metadata": {},
   "outputs": [
    {
     "name": "stdout",
     "output_type": "stream",
     "text": [
      "[  2   5 -10  -7  -7  -3  -1   9   8  -6]\n",
      "[2 3 4 9 5 6 0 1 8 7]\n"
     ]
    }
   ],
   "source": [
    "y_sorted = np.argsort(y)\n",
    "\n",
    "compare_arrays(y, y_sorted)"
   ]
  },
  {
   "cell_type": "code",
   "execution_count": 138,
   "metadata": {},
   "outputs": [
    {
     "name": "stdout",
     "output_type": "stream",
     "text": [
      "7\n"
     ]
    }
   ],
   "source": [
    "y_argmax = np.argmax(y)\n",
    "\n",
    "print(y_argmax)"
   ]
  },
  {
   "cell_type": "code",
   "execution_count": 139,
   "metadata": {},
   "outputs": [
    {
     "name": "stdout",
     "output_type": "stream",
     "text": [
      "2\n"
     ]
    }
   ],
   "source": [
    "y_argmin = np.argmin(y)\n",
    "\n",
    "print(y_argmin)"
   ]
  }
 ],
 "metadata": {
  "kernelspec": {
   "display_name": "Python 3.8.5 64-bit ('pyUdemy': conda)",
   "name": "python385jvsc74a57bd0423c48e3256333a0e0252f1efeec30283ab6ba0213e3a05c32b0541c29f89950"
  },
  "language_info": {
   "codemirror_mode": {
    "name": "ipython",
    "version": 3
   },
   "file_extension": ".py",
   "mimetype": "text/x-python",
   "name": "python",
   "nbconvert_exporter": "python",
   "pygments_lexer": "ipython3",
   "version": "3.8.5"
  },
  "metadata": {
   "interpreter": {
    "hash": "423c48e3256333a0e0252f1efeec30283ab6ba0213e3a05c32b0541c29f89950"
   }
  },
  "orig_nbformat": 2
 },
 "nbformat": 4,
 "nbformat_minor": 2
}
