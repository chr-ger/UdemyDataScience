{
 "cells": [
  {
   "cell_type": "markdown",
   "metadata": {},
   "source": [
    "# Exercise"
   ]
  },
  {
   "cell_type": "code",
   "execution_count": 1,
   "metadata": {},
   "outputs": [],
   "source": [
    "import numpy as np"
   ]
  },
  {
   "cell_type": "markdown",
   "metadata": {},
   "source": [
    "## Exercise 1:\n",
    "\n",
    "Create a 2d array (5x5) with 1 on the border and 0 inside"
   ]
  },
  {
   "cell_type": "code",
   "execution_count": 11,
   "metadata": {},
   "outputs": [
    {
     "name": "stdout",
     "output_type": "stream",
     "text": [
      "[[1 1 1 1 1]\n",
      " [1 0 0 0 1]\n",
      " [1 0 0 0 1]\n",
      " [1 0 0 0 1]\n",
      " [1 1 1 1 1]]\n",
      "[[1 1 1 1 1]\n",
      " [1 0 0 0 1]\n",
      " [1 0 0 0 1]\n",
      " [1 0 0 0 1]\n",
      " [1 1 1 1 1]]\n"
     ]
    }
   ],
   "source": [
    "v1 = np.zeros(shape=(5,5), dtype=np.uint8)\n",
    "v1[0,:] = 1\n",
    "v1[-1,:] = 1\n",
    "v1[:,0] = 1\n",
    "v1[:,-1] = 1\n",
    "print(v1)\n",
    "\n",
    "v2 = np.ones(shape=(5,5), dtype=np.uint8)\n",
    "v2[1:-1, 1:-1] = 0\n",
    "print(v2)"
   ]
  },
  {
   "cell_type": "markdown",
   "metadata": {},
   "source": [
    "## Exercise 2:\n",
    "\n",
    "Create a matrix (8x8) and fill it with a checkerboard pattern"
   ]
  },
  {
   "cell_type": "code",
   "execution_count": 42,
   "metadata": {},
   "outputs": [
    {
     "name": "stdout",
     "output_type": "stream",
     "text": [
      "[[0 1 0 1 0 1 0 1]\n",
      " [1 0 1 0 1 0 1 0]\n",
      " [0 1 0 1 0 1 0 1]\n",
      " [1 0 1 0 1 0 1 0]\n",
      " [0 1 0 1 0 1 0 1]\n",
      " [1 0 1 0 1 0 1 0]\n",
      " [0 1 0 1 0 1 0 1]\n",
      " [1 0 1 0 1 0 1 0]]\n"
     ]
    }
   ],
   "source": [
    "M = np.ones(shape=(8,8), dtype=np.uint8)\n",
    "M[0::2,0::2] = 0\n",
    "M[1::2,1::2] = 0\n",
    "print(M)"
   ]
  },
  {
   "cell_type": "markdown",
   "metadata": {},
   "source": [
    "## Exercise 3:\n",
    "\n",
    "How to find the closest value in an 1D array"
   ]
  },
  {
   "cell_type": "code",
   "execution_count": 100,
   "metadata": {},
   "outputs": [
    {
     "name": "stdout",
     "output_type": "stream",
     "text": [
      "[ 0  1  2  3  4  5  6  7  8  9 10]\n",
      "[3]\n",
      "[3 4]\n",
      "[array([False, False, False, False,  True, False, False, False, False,\n",
      "       False, False])]\n",
      "4\n",
      "[3]\n",
      "[4]\n",
      "[4]\n",
      "3\n",
      "3\n",
      "4\n"
     ]
    }
   ],
   "source": [
    "N = np.arange(11,dtype=np.uint8)\n",
    "print(N)\n",
    "search_val1 = 3.4\n",
    "search_val2 = 3.5\n",
    "search_val3 = 3.6\n",
    "#buggy at tolerance level, maybe use 0.5-floatresolution? or use higher value if size > 1\n",
    "print(N[np.isclose(N, search_val1, atol=0.5)])\n",
    "print(N[np.isclose(N, search_val2, atol=0.5)])\n",
    "print([np.isclose(N, search_val3, atol=0.5)])\n",
    "print(N[np.isclose(N, search_val2, atol=0.5)][-1])\n",
    "\n",
    "#only works if N has no gaps\n",
    "print(N[np.where(N==np.round(search_val1))])\n",
    "print(N[np.where(N==np.round(search_val2))])\n",
    "print(N[np.where(N==np.round(search_val3))])\n",
    "\n",
    "#official solution also is buggy at 0.5\n",
    "print(N[np.argmin(np.abs(N.astype(np.float64)-search_val1))])\n",
    "print(N[np.argmin(np.abs(N.astype(np.float64)-search_val2))])\n",
    "print(N[np.argmin(np.abs(N.astype(np.float64)-search_val3))])"
   ]
  },
  {
   "cell_type": "markdown",
   "metadata": {},
   "source": [
    "## Exercise 4:\n",
    "\n",
    "How to get the n largest values of an 1D array"
   ]
  },
  {
   "cell_type": "code",
   "execution_count": 95,
   "metadata": {},
   "outputs": [
    {
     "name": "stdout",
     "output_type": "stream",
     "text": [
      "[47.43983683 45.32780535  2.58356698 72.42863137 60.16019326 70.44269451\n",
      " 78.07176619 16.31881255 62.54562173 25.01809275]\n",
      "[2 7 9 1 0 4 8 5 3 6]\n",
      "[70.44269451 72.42863137 78.07176619]\n"
     ]
    }
   ],
   "source": [
    "O = np.random.uniform(low=0, high=101, size=(10,))\n",
    "print(O)\n",
    "n = 3\n",
    "idx = np.argsort(O)\n",
    "print(idx)\n",
    "print(O[idx[-n:]])"
   ]
  }
 ],
 "metadata": {
  "interpreter": {
   "hash": "243bc61009ac3c06a8b45087476b60abf2506a912759ea1a2c38e4670409b10f"
  },
  "kernelspec": {
   "display_name": "Python 3.8.2 ('venv': venv)",
   "language": "python",
   "name": "python3"
  },
  "language_info": {
   "codemirror_mode": {
    "name": "ipython",
    "version": 3
   },
   "file_extension": ".py",
   "mimetype": "text/x-python",
   "name": "python",
   "nbconvert_exporter": "python",
   "pygments_lexer": "ipython3",
   "version": "3.8.2"
  },
  "orig_nbformat": 2
 },
 "nbformat": 4,
 "nbformat_minor": 2
}
