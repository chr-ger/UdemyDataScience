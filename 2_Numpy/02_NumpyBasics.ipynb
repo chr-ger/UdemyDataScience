{
 "cells": [
  {
   "cell_type": "markdown",
   "metadata": {},
   "source": [
    "# Numpy Basics"
   ]
  },
  {
   "cell_type": "markdown",
   "metadata": {},
   "source": [
    "NumPy provides an N-dimensional array type, the ndarray, which describes a collection of “items” of the *same* type.  \n",
    "The items can be indexed using for example N integers.  \n",
    "All ndarrays are homogeneous: every item takes up the same size block of memory, and all blocks are interpreted in exactly the same way.  \n",
    "An item extracted from an array, e.g., by indexing, is represented by a Python object whose type is one of the array scalar types built in NumPy."
   ]
  },
  {
   "cell_type": "markdown",
   "metadata": {},
   "source": [
    "<p align=\"center\">\n",
    "<img src=\"https://numpy.org/doc/stable/_images/threefundamental.png\">\n",
    "</p>"
   ]
  },
  {
   "cell_type": "markdown",
   "metadata": {},
   "source": [
    "## NumPy Array Attributes"
   ]
  },
  {
   "cell_type": "code",
   "execution_count": 104,
   "metadata": {},
   "outputs": [],
   "source": [
    "import numpy as np\n",
    "np.random.seed(0)"
   ]
  },
  {
   "cell_type": "code",
   "execution_count": 105,
   "metadata": {},
   "outputs": [],
   "source": [
    "def array_info(array: np.ndarray) -> None:\n",
    "    print(f\"ndim: {array.ndim}\")\n",
    "    print(f\"shape: {array.shape}\")\n",
    "    print(f\"size: {array.size}\")\n",
    "    print(f\"dtype: {array.dtype}\")\n",
    "    print(f\"values:\\n{array}\\n\")"
   ]
  },
  {
   "cell_type": "markdown",
   "metadata": {},
   "source": [
    "## Array Indexing and Slicing\n",
    "\n",
    "Array indexing refers to any use of the square brackets ([]) to index array values. There are many options to indexing, which give numpy indexing great power.\n",
    "\n",
    "Most of the following examples show the use of indexing when referencing data in an array. The examples work just as well when assigning to an array.\n",
    "\n",
    "Note that slices of arrays do not copy the internal array data but only produce new views of the original data."
   ]
  },
  {
   "cell_type": "markdown",
   "metadata": {},
   "source": [
    "![](../media/np_matrix_indexing.png)"
   ]
  },
  {
   "cell_type": "code",
   "execution_count": 106,
   "metadata": {
    "collapsed": false
   },
   "outputs": [
    {
     "name": "stdout",
     "output_type": "stream",
     "text": [
      "ndim: 2\n",
      "shape: (3, 2)\n",
      "size: 6\n",
      "dtype: int32\n",
      "values:\n",
      "[[1 2]\n",
      " [3 4]\n",
      " [5 6]]\n",
      "\n"
     ]
    }
   ],
   "source": [
    "x = np.array([[1, 2], [3, 4], [5, 6]])\n",
    "\n",
    "array_info(x)"
   ]
  },
  {
   "cell_type": "code",
   "execution_count": 107,
   "metadata": {
    "collapsed": false
   },
   "outputs": [
    {
     "name": "stdout",
     "output_type": "stream",
     "text": [
      "[[1 2]\n",
      " [3 4]\n",
      " [5 6]]\n"
     ]
    }
   ],
   "source": [
    "print(x[:3])"
   ]
  },
  {
   "cell_type": "code",
   "execution_count": 108,
   "metadata": {
    "collapsed": false
   },
   "outputs": [
    {
     "name": "stdout",
     "output_type": "stream",
     "text": [
      "[[3 4]\n",
      " [5 6]]\n"
     ]
    }
   ],
   "source": [
    "print(x[1:])"
   ]
  },
  {
   "cell_type": "code",
   "execution_count": 109,
   "metadata": {
    "collapsed": false
   },
   "outputs": [
    {
     "name": "stdout",
     "output_type": "stream",
     "text": [
      "[[3 4]]\n"
     ]
    }
   ],
   "source": [
    "print(x[1:2])"
   ]
  },
  {
   "cell_type": "code",
   "execution_count": 110,
   "metadata": {
    "collapsed": false
   },
   "outputs": [
    {
     "name": "stdout",
     "output_type": "stream",
     "text": [
      "[[5 6]\n",
      " [3 4]\n",
      " [1 2]]\n"
     ]
    }
   ],
   "source": [
    "print(x[::-1])"
   ]
  },
  {
   "cell_type": "code",
   "execution_count": 111,
   "metadata": {
    "collapsed": false
   },
   "outputs": [
    {
     "name": "stdout",
     "output_type": "stream",
     "text": [
      "[1 2]\n"
     ]
    }
   ],
   "source": [
    "print(x[0, :])"
   ]
  },
  {
   "cell_type": "code",
   "execution_count": 112,
   "metadata": {
    "collapsed": false
   },
   "outputs": [
    {
     "name": "stdout",
     "output_type": "stream",
     "text": [
      "[1 2]\n"
     ]
    }
   ],
   "source": [
    "print(x[0])"
   ]
  },
  {
   "cell_type": "code",
   "execution_count": 113,
   "metadata": {
    "collapsed": false
   },
   "outputs": [
    {
     "name": "stdout",
     "output_type": "stream",
     "text": [
      "[1 3 5]\n"
     ]
    }
   ],
   "source": [
    "print(x[:, 0])"
   ]
  },
  {
   "cell_type": "code",
   "execution_count": 114,
   "metadata": {},
   "outputs": [
    {
     "name": "stdout",
     "output_type": "stream",
     "text": [
      "[[-1.78290539 -3.87118733]\n",
      " [-1.76178869 -1.82780883]\n",
      " [-1.35141055 -4.32039163]\n",
      " [-0.81984535 -2.14310962]\n",
      " [-0.06176746  0.29530878]\n",
      " [-0.68960528 -0.09076013]\n",
      " [-0.74967019 -1.67816385]\n",
      " [-0.53776779 -0.93711981]\n",
      " [-1.30183841 -3.36497764]\n",
      " [ 0.03761145 -0.8336645 ]]\n",
      "(10, 2)\n"
     ]
    }
   ],
   "source": [
    "mean = [0, 0]\n",
    "cov = [[1, 2],\n",
    "       [2, 5]]\n",
    "\n",
    "x = np.random.multivariate_normal(mean=mean, cov=cov, size=10)\n",
    "\n",
    "print(x)\n",
    "print(x.shape)"
   ]
  },
  {
   "cell_type": "code",
   "execution_count": 115,
   "metadata": {},
   "outputs": [
    {
     "name": "stdout",
     "output_type": "stream",
     "text": [
      "[9 9 0]\n"
     ]
    }
   ],
   "source": [
    "rand_idxs = np.random.randint(low=0, high=x.shape[0], size=3)\n",
    "\n",
    "print(rand_idxs)"
   ]
  },
  {
   "cell_type": "code",
   "execution_count": 116,
   "metadata": {},
   "outputs": [
    {
     "name": "stdout",
     "output_type": "stream",
     "text": [
      "(10, 2)\n",
      "(3, 2)\n",
      "[[ 0.03761145 -0.8336645 ]\n",
      " [ 0.03761145 -0.8336645 ]\n",
      " [-1.78290539 -3.87118733]]\n"
     ]
    }
   ],
   "source": [
    "print(x.shape)\n",
    "x_subsample = x[rand_idxs, :]\n",
    "print(x_subsample.shape)\n",
    "print(x_subsample)"
   ]
  },
  {
   "cell_type": "code",
   "execution_count": 117,
   "metadata": {},
   "outputs": [
    {
     "name": "stdout",
     "output_type": "stream",
     "text": [
      "[[ 0.03761145 -0.8336645 ]\n",
      " [ 0.03761145 -0.8336645 ]\n",
      " [-1.78290539 -3.87118733]]\n"
     ]
    }
   ],
   "source": [
    "x_subsample = x[rand_idxs]\n",
    "\n",
    "print(x_subsample)"
   ]
  },
  {
   "cell_type": "markdown",
   "metadata": {},
   "source": [
    "## Subarrays are views"
   ]
  },
  {
   "cell_type": "code",
   "execution_count": 118,
   "metadata": {
    "collapsed": false
   },
   "outputs": [
    {
     "name": "stdout",
     "output_type": "stream",
     "text": [
      "[[-1.78290539 -3.87118733]\n",
      " [-1.76178869 -1.82780883]\n",
      " [-1.35141055 -4.32039163]\n",
      " [-0.81984535 -2.14310962]\n",
      " [-0.06176746  0.29530878]\n",
      " [-0.68960528 -0.09076013]\n",
      " [-0.74967019 -1.67816385]\n",
      " [-0.53776779 -0.93711981]\n",
      " [-1.30183841 -3.36497764]\n",
      " [ 0.03761145 -0.8336645 ]]\n"
     ]
    }
   ],
   "source": [
    "print(x)"
   ]
  },
  {
   "cell_type": "code",
   "execution_count": 119,
   "metadata": {
    "collapsed": false
   },
   "outputs": [
    {
     "name": "stdout",
     "output_type": "stream",
     "text": [
      "ndim: 2\n",
      "shape: (2, 2)\n",
      "size: 4\n",
      "dtype: float64\n",
      "values:\n",
      "[[-1.78290539 -3.87118733]\n",
      " [-1.76178869 -1.82780883]]\n",
      "\n"
     ]
    }
   ],
   "source": [
    "x_sub_array = x[:2, :2]\n",
    "\n",
    "array_info(x_sub_array)"
   ]
  },
  {
   "cell_type": "code",
   "execution_count": 120,
   "metadata": {
    "collapsed": false
   },
   "outputs": [
    {
     "name": "stdout",
     "output_type": "stream",
     "text": [
      "ndim: 2\n",
      "shape: (2, 2)\n",
      "size: 4\n",
      "dtype: float64\n",
      "values:\n",
      "[[-1.         -3.87118733]\n",
      " [-1.76178869 -1.82780883]]\n",
      "\n"
     ]
    }
   ],
   "source": [
    "x_sub_array[0, 0] = -1\n",
    "\n",
    "array_info(x_sub_array)"
   ]
  },
  {
   "cell_type": "code",
   "execution_count": 121,
   "metadata": {
    "collapsed": false
   },
   "outputs": [
    {
     "name": "stdout",
     "output_type": "stream",
     "text": [
      "ndim: 2\n",
      "shape: (10, 2)\n",
      "size: 20\n",
      "dtype: float64\n",
      "values:\n",
      "[[-1.         -3.87118733]\n",
      " [-1.76178869 -1.82780883]\n",
      " [-1.35141055 -4.32039163]\n",
      " [-0.81984535 -2.14310962]\n",
      " [-0.06176746  0.29530878]\n",
      " [-0.68960528 -0.09076013]\n",
      " [-0.74967019 -1.67816385]\n",
      " [-0.53776779 -0.93711981]\n",
      " [-1.30183841 -3.36497764]\n",
      " [ 0.03761145 -0.8336645 ]]\n",
      "\n"
     ]
    }
   ],
   "source": [
    "array_info(x)"
   ]
  },
  {
   "cell_type": "markdown",
   "metadata": {},
   "source": [
    "## Creating copies of arrays"
   ]
  },
  {
   "cell_type": "code",
   "execution_count": 122,
   "metadata": {
    "collapsed": false
   },
   "outputs": [
    {
     "name": "stdout",
     "output_type": "stream",
     "text": [
      "ndim: 2\n",
      "shape: (2, 2)\n",
      "size: 4\n",
      "dtype: float64\n",
      "values:\n",
      "[[-1.         -3.87118733]\n",
      " [-1.76178869 -1.82780883]]\n",
      "\n"
     ]
    }
   ],
   "source": [
    "x_copy = x[:2, :2].copy()\n",
    "\n",
    "array_info(x_copy)"
   ]
  },
  {
   "cell_type": "code",
   "execution_count": 123,
   "metadata": {
    "collapsed": false
   },
   "outputs": [
    {
     "name": "stdout",
     "output_type": "stream",
     "text": [
      "ndim: 2\n",
      "shape: (2, 2)\n",
      "size: 4\n",
      "dtype: float64\n",
      "values:\n",
      "[[42.         -3.87118733]\n",
      " [-1.76178869 -1.82780883]]\n",
      "\n"
     ]
    }
   ],
   "source": [
    "x_copy[0, 0] = 42\n",
    "\n",
    "array_info(x_copy)"
   ]
  },
  {
   "cell_type": "code",
   "execution_count": 124,
   "metadata": {
    "collapsed": false
   },
   "outputs": [
    {
     "name": "stdout",
     "output_type": "stream",
     "text": [
      "ndim: 2\n",
      "shape: (10, 2)\n",
      "size: 20\n",
      "dtype: float64\n",
      "values:\n",
      "[[-1.         -3.87118733]\n",
      " [-1.76178869 -1.82780883]\n",
      " [-1.35141055 -4.32039163]\n",
      " [-0.81984535 -2.14310962]\n",
      " [-0.06176746  0.29530878]\n",
      " [-0.68960528 -0.09076013]\n",
      " [-0.74967019 -1.67816385]\n",
      " [-0.53776779 -0.93711981]\n",
      " [-1.30183841 -3.36497764]\n",
      " [ 0.03761145 -0.8336645 ]]\n",
      "\n"
     ]
    }
   ],
   "source": [
    "array_info(x)"
   ]
  },
  {
   "cell_type": "markdown",
   "metadata": {},
   "source": [
    "## Reshaping of Arrays"
   ]
  },
  {
   "cell_type": "code",
   "execution_count": 125,
   "metadata": {},
   "outputs": [
    {
     "name": "stdout",
     "output_type": "stream",
     "text": [
      "ndim: 1\n",
      "shape: (9,)\n",
      "size: 9\n",
      "dtype: int32\n",
      "values:\n",
      "[1 2 3 4 5 6 7 8 9]\n",
      "\n"
     ]
    }
   ],
   "source": [
    "a = np.arange(start=1, stop=10)\n",
    "\n",
    "array_info(a)"
   ]
  },
  {
   "cell_type": "code",
   "execution_count": 126,
   "metadata": {
    "collapsed": false
   },
   "outputs": [
    {
     "name": "stdout",
     "output_type": "stream",
     "text": [
      "ndim: 2\n",
      "shape: (3, 3)\n",
      "size: 9\n",
      "dtype: int32\n",
      "values:\n",
      "[[1 2 3]\n",
      " [4 5 6]\n",
      " [7 8 9]]\n",
      "\n"
     ]
    }
   ],
   "source": [
    "grid = np.reshape(a, newshape=(3, 3))\n",
    "\n",
    "array_info(grid)"
   ]
  },
  {
   "cell_type": "code",
   "execution_count": 127,
   "metadata": {
    "collapsed": false
   },
   "outputs": [
    {
     "name": "stdout",
     "output_type": "stream",
     "text": [
      "ndim: 1\n",
      "shape: (3,)\n",
      "size: 3\n",
      "dtype: int32\n",
      "values:\n",
      "[1 2 3]\n",
      "\n"
     ]
    }
   ],
   "source": [
    "x = np.array([1, 2, 3])\n",
    "\n",
    "array_info(x)"
   ]
  },
  {
   "cell_type": "code",
   "execution_count": 128,
   "metadata": {},
   "outputs": [
    {
     "name": "stdout",
     "output_type": "stream",
     "text": [
      "ndim: 2\n",
      "shape: (1, 3)\n",
      "size: 3\n",
      "dtype: int32\n",
      "values:\n",
      "[[1 2 3]]\n",
      "\n"
     ]
    }
   ],
   "source": [
    "x = np.reshape(x, newshape=(1, 3))\n",
    "\n",
    "array_info(x)"
   ]
  },
  {
   "cell_type": "code",
   "execution_count": 129,
   "metadata": {
    "collapsed": false
   },
   "outputs": [
    {
     "name": "stdout",
     "output_type": "stream",
     "text": [
      "ndim: 2\n",
      "shape: (1, 3)\n",
      "size: 3\n",
      "dtype: int32\n",
      "values:\n",
      "[[1 2 3]]\n",
      "\n",
      "ndim: 3\n",
      "shape: (1, 1, 3)\n",
      "size: 3\n",
      "dtype: int32\n",
      "values:\n",
      "[[[1 2 3]]]\n",
      "\n"
     ]
    }
   ],
   "source": [
    "array_info(x)\n",
    "\n",
    "x = x[np.newaxis, :]\n",
    "\n",
    "array_info(x)"
   ]
  },
  {
   "cell_type": "code",
   "execution_count": 130,
   "metadata": {
    "collapsed": false
   },
   "outputs": [
    {
     "name": "stdout",
     "output_type": "stream",
     "text": [
      "ndim: 3\n",
      "shape: (1, 1, 3)\n",
      "size: 3\n",
      "dtype: int32\n",
      "values:\n",
      "[[[1 2 3]]]\n",
      "\n",
      "ndim: 2\n",
      "shape: (3, 1)\n",
      "size: 3\n",
      "dtype: int32\n",
      "values:\n",
      "[[1]\n",
      " [2]\n",
      " [3]]\n",
      "\n"
     ]
    }
   ],
   "source": [
    "array_info(x)\n",
    "\n",
    "x = x.reshape((3, 1))\n",
    "\n",
    "array_info(x)"
   ]
  },
  {
   "cell_type": "code",
   "execution_count": 131,
   "metadata": {},
   "outputs": [
    {
     "name": "stdout",
     "output_type": "stream",
     "text": [
      "ndim: 2\n",
      "shape: (3, 1)\n",
      "size: 3\n",
      "dtype: int32\n",
      "values:\n",
      "[[1]\n",
      " [2]\n",
      " [3]]\n",
      "\n",
      "ndim: 1\n",
      "shape: (3,)\n",
      "size: 3\n",
      "dtype: int32\n",
      "values:\n",
      "[1 2 3]\n",
      "\n"
     ]
    }
   ],
   "source": [
    "array_info(x)\n",
    "\n",
    "x = x.ravel()\n",
    "\n",
    "array_info(x)"
   ]
  },
  {
   "cell_type": "code",
   "execution_count": 132,
   "metadata": {},
   "outputs": [
    {
     "name": "stdout",
     "output_type": "stream",
     "text": [
      "ndim: 2\n",
      "shape: (3, 1)\n",
      "size: 3\n",
      "dtype: int32\n",
      "values:\n",
      "[[1]\n",
      " [2]\n",
      " [3]]\n",
      "\n",
      "ndim: 1\n",
      "shape: (3,)\n",
      "size: 3\n",
      "dtype: int32\n",
      "values:\n",
      "[1 2 3]\n",
      "\n"
     ]
    }
   ],
   "source": [
    "x = x.reshape((3, 1))\n",
    "array_info(x)\n",
    "\n",
    "x = x.flatten()\n",
    "\n",
    "array_info(x)"
   ]
  },
  {
   "cell_type": "markdown",
   "metadata": {},
   "source": [
    "- `flatten()` always returns a copy.\n",
    "- `ravel()` returns a view of the original array whenever possible. This isn't visible in the printed output, but if you modify the array returned by ravel, it may modify the entries in the original array. If you modify the entries in an array returned from flatten this will never happen. ravel will often be faster since no memory is copied, but you have to be more careful about modifying the array it returns."
   ]
  },
  {
   "cell_type": "markdown",
   "metadata": {},
   "source": [
    "### “Automatic” Reshaping"
   ]
  },
  {
   "cell_type": "code",
   "execution_count": 133,
   "metadata": {},
   "outputs": [
    {
     "name": "stdout",
     "output_type": "stream",
     "text": [
      "ndim: 1\n",
      "shape: (30,)\n",
      "size: 30\n",
      "dtype: int32\n",
      "values:\n",
      "[ 0  1  2  3  4  5  6  7  8  9 10 11 12 13 14 15 16 17 18 19 20 21 22 23\n",
      " 24 25 26 27 28 29]\n",
      "\n"
     ]
    }
   ],
   "source": [
    "a = np.arange(30)\n",
    "\n",
    "array_info(a)"
   ]
  },
  {
   "cell_type": "code",
   "execution_count": 134,
   "metadata": {},
   "outputs": [
    {
     "name": "stdout",
     "output_type": "stream",
     "text": [
      "ndim: 3\n",
      "shape: (2, 5, 3)\n",
      "size: 30\n",
      "dtype: int32\n",
      "values:\n",
      "[[[ 0  1  2]\n",
      "  [ 3  4  5]\n",
      "  [ 6  7  8]\n",
      "  [ 9 10 11]\n",
      "  [12 13 14]]\n",
      "\n",
      " [[15 16 17]\n",
      "  [18 19 20]\n",
      "  [21 22 23]\n",
      "  [24 25 26]\n",
      "  [27 28 29]]]\n",
      "\n"
     ]
    }
   ],
   "source": [
    "b = a.reshape((2, -1, 3))\n",
    "\n",
    "array_info(b)"
   ]
  },
  {
   "cell_type": "markdown",
   "metadata": {},
   "source": [
    "## Changing the Dtype\n",
    "\n",
    "| Numpy type | C type   | Description |\n",
    "|-|-|-|\n",
    "| numpy.int8 | int8_t | Byte (-128 to 127) |\n",
    "| numpy.int16 | int16_t |   Integer (-32768 to 32767) |\n",
    "| numpy.int32 | int32_t |   Integer (-2147483648 to 2147483647) |\n",
    "| numpy.int64 | int64_t |   Integer (-9223372036854775808 to 9223372036854775807) |\n",
    "| numpy.uint8 | uint8_t |   Unsigned integer (0 to 255) |\n",
    "| numpy.uint16 | uint16_t |   Unsigned integer (0 to 65535) |\n",
    "| numpy.uint32 | uint32_t |   Unsigned integer (0 to 4294967295) |\n",
    "| numpy.uint64 | uint64_t |   Unsigned integer (0 to 18446744073709551615) |\n",
    "| numpy.intp | intptr_t |   Integer used for indexing, typically the same as ssize_t |\n",
    "| numpy.uintp | uintptr_t |   Integer large enough to hold a pointer |\n",
    "| numpy.float32 | float |  |\n",
    "| numpy.float64 | double |   Note that this matches the precision of the builtin python float. |\n",
    "| numpy.complex64 | float complex |   Complex number, represented by two 32-bit floats. |\n",
    "| numpy.complex128 | double complex |   Note that this matches the precision of the builtin python complex. |"
   ]
  },
  {
   "cell_type": "code",
   "execution_count": 135,
   "metadata": {},
   "outputs": [
    {
     "name": "stdout",
     "output_type": "stream",
     "text": [
      "ndim: 1\n",
      "shape: (3,)\n",
      "size: 3\n",
      "dtype: float32\n",
      "values:\n",
      "[-1.  2.  3.]\n",
      "\n"
     ]
    }
   ],
   "source": [
    "x = np.float32([-1.0, 2.0, 3.0])\n",
    "\n",
    "array_info(x)"
   ]
  },
  {
   "cell_type": "code",
   "execution_count": 136,
   "metadata": {},
   "outputs": [],
   "source": [
    "x = np.array([-1.0, 2.0, 3.0], dtype=np.float32)"
   ]
  },
  {
   "cell_type": "code",
   "execution_count": 137,
   "metadata": {},
   "outputs": [
    {
     "name": "stdout",
     "output_type": "stream",
     "text": [
      "ndim: 1\n",
      "shape: (3,)\n",
      "size: 3\n",
      "dtype: int8\n",
      "values:\n",
      "[-1  2  3]\n",
      "\n"
     ]
    }
   ],
   "source": [
    "y = x.astype(np.int8)\n",
    "\n",
    "array_info(y)"
   ]
  },
  {
   "cell_type": "code",
   "execution_count": 138,
   "metadata": {},
   "outputs": [
    {
     "name": "stdout",
     "output_type": "stream",
     "text": [
      "ndim: 1\n",
      "shape: (3,)\n",
      "size: 3\n",
      "dtype: uint16\n",
      "values:\n",
      "[65535     2     3]\n",
      "\n"
     ]
    }
   ],
   "source": [
    "z = np.uint16(x)\n",
    "\n",
    "array_info(z)"
   ]
  },
  {
   "cell_type": "markdown",
   "metadata": {},
   "source": [
    "## Concatenation of arrays"
   ]
  },
  {
   "cell_type": "code",
   "execution_count": 139,
   "metadata": {
    "collapsed": false
   },
   "outputs": [
    {
     "name": "stdout",
     "output_type": "stream",
     "text": [
      "ndim: 1\n",
      "shape: (6,)\n",
      "size: 6\n",
      "dtype: int32\n",
      "values:\n",
      "[1 2 3 3 2 1]\n",
      "\n"
     ]
    }
   ],
   "source": [
    "x = np.array([1, 2, 3])\n",
    "y = np.array([3, 2, 1])\n",
    "\n",
    "result = np.concatenate([x, y])\n",
    "\n",
    "array_info(result)"
   ]
  },
  {
   "cell_type": "code",
   "execution_count": 140,
   "metadata": {
    "collapsed": false
   },
   "outputs": [
    {
     "name": "stdout",
     "output_type": "stream",
     "text": [
      "ndim: 2\n",
      "shape: (2, 3)\n",
      "size: 6\n",
      "dtype: int32\n",
      "values:\n",
      "[[1 2 3]\n",
      " [4 5 6]]\n",
      "\n"
     ]
    }
   ],
   "source": [
    "grid = np.array([[1, 2, 3],\n",
    "                 [4, 5, 6]])\n",
    "\n",
    "array_info(grid)"
   ]
  },
  {
   "cell_type": "code",
   "execution_count": 141,
   "metadata": {
    "collapsed": false
   },
   "outputs": [
    {
     "name": "stdout",
     "output_type": "stream",
     "text": [
      "ndim: 2\n",
      "shape: (4, 3)\n",
      "size: 12\n",
      "dtype: int32\n",
      "values:\n",
      "[[1 2 3]\n",
      " [4 5 6]\n",
      " [1 2 3]\n",
      " [4 5 6]]\n",
      "\n"
     ]
    }
   ],
   "source": [
    "result = np.concatenate([grid, grid]) # axis=0 is default\n",
    "\n",
    "array_info(result)"
   ]
  },
  {
   "cell_type": "code",
   "execution_count": 142,
   "metadata": {},
   "outputs": [
    {
     "name": "stdout",
     "output_type": "stream",
     "text": [
      "ndim: 2\n",
      "shape: (4, 3)\n",
      "size: 12\n",
      "dtype: int32\n",
      "values:\n",
      "[[1 2 3]\n",
      " [4 5 6]\n",
      " [1 2 3]\n",
      " [4 5 6]]\n",
      "\n"
     ]
    }
   ],
   "source": [
    "result = np.concatenate([grid, grid], axis=0) # axis=0 is default\n",
    "\n",
    "array_info(result)"
   ]
  },
  {
   "cell_type": "code",
   "execution_count": 143,
   "metadata": {
    "collapsed": false
   },
   "outputs": [
    {
     "name": "stdout",
     "output_type": "stream",
     "text": [
      "ndim: 2\n",
      "shape: (2, 6)\n",
      "size: 12\n",
      "dtype: int32\n",
      "values:\n",
      "[[1 2 3 1 2 3]\n",
      " [4 5 6 4 5 6]]\n",
      "\n"
     ]
    }
   ],
   "source": [
    "result = np.concatenate([grid, grid], axis=1)\n",
    "\n",
    "array_info(result)"
   ]
  },
  {
   "cell_type": "code",
   "execution_count": 144,
   "metadata": {
    "collapsed": false
   },
   "outputs": [
    {
     "name": "stdout",
     "output_type": "stream",
     "text": [
      "ndim: 2\n",
      "shape: (3, 3)\n",
      "size: 9\n",
      "dtype: int32\n",
      "values:\n",
      "[[1 2 3]\n",
      " [4 5 6]\n",
      " [7 8 9]]\n",
      "\n"
     ]
    }
   ],
   "source": [
    "x = np.array([1, 2, 3])\n",
    "grid = np.array([[4, 5, 6],\n",
    "                 [7, 8, 9]])\n",
    "\n",
    "result = np.vstack([x, grid])\n",
    "\n",
    "array_info(result)"
   ]
  },
  {
   "cell_type": "code",
   "execution_count": 145,
   "metadata": {
    "collapsed": false
   },
   "outputs": [
    {
     "name": "stdout",
     "output_type": "stream",
     "text": [
      "ndim: 2\n",
      "shape: (2, 4)\n",
      "size: 8\n",
      "dtype: int32\n",
      "values:\n",
      "[[ 4  5  6 -1]\n",
      " [ 7  8  9 -1]]\n",
      "\n"
     ]
    }
   ],
   "source": [
    "y = np.array([[-1], [-1]])\n",
    "\n",
    "result = np.hstack([grid, y])\n",
    "\n",
    "array_info(result)"
   ]
  }
 ],
 "metadata": {
  "anaconda-cloud": {},
  "interpreter": {
   "hash": "243bc61009ac3c06a8b45087476b60abf2506a912759ea1a2c38e4670409b10f"
  },
  "kernelspec": {
   "display_name": "Python 3.8.2 ('venv': venv)",
   "language": "python",
   "name": "python3"
  },
  "language_info": {
   "codemirror_mode": {
    "name": "ipython",
    "version": 3
   },
   "file_extension": ".py",
   "mimetype": "text/x-python",
   "name": "python",
   "nbconvert_exporter": "python",
   "pygments_lexer": "ipython3",
   "version": "3.8.2"
  },
  "metadata": {
   "interpreter": {
    "hash": "423c48e3256333a0e0252f1efeec30283ab6ba0213e3a05c32b0541c29f89950"
   }
  }
 },
 "nbformat": 4,
 "nbformat_minor": 0
}
