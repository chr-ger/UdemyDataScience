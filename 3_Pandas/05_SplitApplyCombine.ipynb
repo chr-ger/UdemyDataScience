{
 "cells": [
  {
   "cell_type": "markdown",
   "metadata": {},
   "source": [
    "# GroupBy: Split, Apply, Combine"
   ]
  },
  {
   "cell_type": "code",
   "execution_count": 1,
   "metadata": {},
   "outputs": [],
   "source": [
    "import numpy as np\n",
    "np.random.seed(0)\n",
    "import pandas as pd"
   ]
  },
  {
   "cell_type": "markdown",
   "metadata": {},
   "source": [
    "## Apply\n",
    "\n",
    "Apply a function along an axis of the DataFrame.\n",
    "\n",
    "Objects passed to the function are Series objects whose index is either the DataFrame’s index (axis=0) or the DataFrame’s columns (axis=1).  \n",
    "By default, the final return type is inferred from the return type of the applied function. Otherwise, it depends on the result_type argument."
   ]
  },
  {
   "cell_type": "code",
   "execution_count": 2,
   "metadata": {},
   "outputs": [
    {
     "name": "stdout",
     "output_type": "stream",
     "text": [
      "   A  B\n",
      "0  4  9\n",
      "1  4  9\n",
      "2  4  9\n"
     ]
    }
   ],
   "source": [
    "data = [[4, 9], [4, 9], [4, 9]]\n",
    "df = pd.DataFrame(data, columns=['A', 'B'])\n",
    "\n",
    "print(df)"
   ]
  },
  {
   "cell_type": "code",
   "execution_count": 3,
   "metadata": {},
   "outputs": [
    {
     "name": "stdout",
     "output_type": "stream",
     "text": [
      "     A    B\n",
      "0  2.0  3.0\n",
      "1  2.0  3.0\n",
      "2  2.0  3.0\n"
     ]
    }
   ],
   "source": [
    "print(df.apply(np.sqrt))"
   ]
  },
  {
   "cell_type": "code",
   "execution_count": 4,
   "metadata": {},
   "outputs": [
    {
     "name": "stdout",
     "output_type": "stream",
     "text": [
      "A    12\n",
      "B    27\n",
      "dtype: int64\n"
     ]
    }
   ],
   "source": [
    "print(df.apply(np.sum, axis=0))"
   ]
  },
  {
   "cell_type": "code",
   "execution_count": 5,
   "metadata": {},
   "outputs": [
    {
     "name": "stdout",
     "output_type": "stream",
     "text": [
      "0    13\n",
      "1    13\n",
      "2    13\n",
      "dtype: int64\n"
     ]
    }
   ],
   "source": [
    "print(df.apply(np.sum, axis=1))"
   ]
  },
  {
   "cell_type": "code",
   "execution_count": 6,
   "metadata": {},
   "outputs": [
    {
     "data": {
      "text/plain": [
       "0    13\n",
       "1    13\n",
       "2    13\n",
       "dtype: int64"
      ]
     },
     "execution_count": 6,
     "metadata": {},
     "output_type": "execute_result"
    }
   ],
   "source": [
    "np.sum(df, axis=1) #does the same, for predefined np.functions the apply is not really usefull (df.values typecast not needed)"
   ]
  },
  {
   "cell_type": "markdown",
   "metadata": {},
   "source": [
    "## GroupBy\n",
    "\n",
    "By “group by” we are referring to a process involving one or more of the following steps:\n",
    "\n",
    "- Splitting the data into groups based on some criteria.\n",
    "- Applying a function to each group independently.\n",
    "- Combining the results into a data structure."
   ]
  },
  {
   "cell_type": "code",
   "execution_count": 7,
   "metadata": {},
   "outputs": [
    {
     "name": "stdout",
     "output_type": "stream",
     "text": [
      "  key name  data\n",
      "0   A   N1    10\n",
      "1   B   N1    11\n",
      "2   C   N2    12\n",
      "3   A   N2    13\n",
      "4   B   N3    14\n",
      "5   C   N4    15\n"
     ]
    }
   ],
   "source": [
    "keys = ['A', 'B', 'C', 'A', 'B', 'C']\n",
    "names = ['N1', 'N1', 'N2', 'N2', 'N3', 'N4']\n",
    "\n",
    "df = pd.DataFrame(\n",
    "    {\n",
    "        'key': keys,\n",
    "        'name': names,\n",
    "        'data': range(10, 16)\n",
    "    }\n",
    ")\n",
    "\n",
    "print(df)"
   ]
  },
  {
   "cell_type": "code",
   "execution_count": 8,
   "metadata": {},
   "outputs": [
    {
     "name": "stdout",
     "output_type": "stream",
     "text": [
      "23\n",
      "25\n",
      "27\n"
     ]
    }
   ],
   "source": [
    "for c in ['A', 'B', 'C']:  #problem is do generate the unique keylist to loop through\n",
    "    print(df[df['key'] == c].data.sum())"
   ]
  },
  {
   "cell_type": "code",
   "execution_count": 9,
   "metadata": {},
   "outputs": [],
   "source": [
    "grouped = df.groupby('key')"
   ]
  },
  {
   "cell_type": "code",
   "execution_count": 10,
   "metadata": {},
   "outputs": [
    {
     "name": "stdout",
     "output_type": "stream",
     "text": [
      "('A',   key name  data\n",
      "0   A   N1    10\n",
      "3   A   N2    13)\n",
      "('B',   key name  data\n",
      "1   B   N1    11\n",
      "4   B   N3    14)\n",
      "('C',   key name  data\n",
      "2   C   N2    12\n",
      "5   C   N4    15)\n"
     ]
    }
   ],
   "source": [
    "for v in grouped:\n",
    "    print(v)"
   ]
  },
  {
   "cell_type": "markdown",
   "metadata": {},
   "source": [
    "### Aggregate\n",
    "\n",
    "Once the GroupBy object has been created, several methods are available to perform a computation on the grouped data.\n",
    "\n",
    "An obvious one is aggregation via the aggregate() or equivalently agg() method:"
   ]
  },
  {
   "cell_type": "code",
   "execution_count": 11,
   "metadata": {},
   "outputs": [
    {
     "name": "stdout",
     "output_type": "stream",
     "text": [
      "     data\n",
      "key      \n",
      "A      23\n",
      "B      25\n",
      "C      27\n"
     ]
    }
   ],
   "source": [
    "print(df.groupby('key').aggregate(np.sum))"
   ]
  },
  {
   "cell_type": "code",
   "execution_count": 31,
   "metadata": {},
   "outputs": [
    {
     "name": "stdout",
     "output_type": "stream",
     "text": [
      "    data                        \n",
      "     min max  mean      std  var\n",
      "key                             \n",
      "A     10  13  11.5  2.12132  4.5\n",
      "B     11  14  12.5  2.12132  4.5\n",
      "C     12  15  13.5  2.12132  4.5\n",
      "     min  max  mean      std  var\n",
      "key                              \n",
      "A     10   13  11.5  2.12132  4.5\n",
      "B     11   14  12.5  2.12132  4.5\n",
      "C     12   15  13.5  2.12132  4.5\n"
     ]
    }
   ],
   "source": [
    "print(df.groupby('key').agg(['min', 'max', 'mean', 'std', 'var'])) #FutureWarning: ['name'] did not aggregate successfully. If any error is raised this will raise in a future version of pandas. Drop these columns/ops to avoid this warning.\n",
    "print(df.drop(columns='name').groupby('key').agg(['min', 'max', 'mean', 'std', 'var'])) #drop name colum before grouping\n",
    "print(df.groupby('key')['data'].agg(['min', 'max', 'mean', 'std', 'var'])) #or only aggregate on data (select_dtypes(np.number) does not work an grouped df)\n"
   ]
  },
  {
   "cell_type": "code",
   "execution_count": 13,
   "metadata": {},
   "outputs": [
    {
     "name": "stdout",
     "output_type": "stream",
     "text": [
      "    name  data\n",
      "key           \n",
      "A     N1    10\n",
      "B     N1    11\n",
      "C     N2    12\n"
     ]
    }
   ],
   "source": [
    "print(df.groupby('key').aggregate(np.min))"
   ]
  },
  {
   "cell_type": "code",
   "execution_count": 14,
   "metadata": {},
   "outputs": [
    {
     "name": "stdout",
     "output_type": "stream",
     "text": [
      "          data\n",
      "key name      \n",
      "A   N1      10\n",
      "    N2      13\n",
      "B   N1      11\n",
      "    N3      14\n",
      "C   N2      12\n",
      "    N4      15\n"
     ]
    }
   ],
   "source": [
    "grouped = df.groupby(['key', 'name'])\n",
    "\n",
    "print(grouped.aggregate(np.min))"
   ]
  },
  {
   "cell_type": "markdown",
   "metadata": {},
   "source": [
    "### Transform\n",
    "\n",
    "The transform method returns an object that is indexed the same (same size) as the one being grouped."
   ]
  },
  {
   "cell_type": "code",
   "execution_count": 15,
   "metadata": {},
   "outputs": [
    {
     "name": "stdout",
     "output_type": "stream",
     "text": [
      "   data\n",
      "0   100\n",
      "1   121\n",
      "2   144\n",
      "3   169\n",
      "4   196\n",
      "5   225\n"
     ]
    }
   ],
   "source": [
    "print(grouped.transform(lambda x: x**2))"
   ]
  },
  {
   "cell_type": "markdown",
   "metadata": {},
   "source": [
    "### Filter\n",
    "\n",
    "The filter method returns a subset of the original object. Suppose we want to take only elements that belong to groups with a group sum greater than 2."
   ]
  },
  {
   "cell_type": "code",
   "execution_count": 16,
   "metadata": {},
   "outputs": [
    {
     "name": "stdout",
     "output_type": "stream",
     "text": [
      "  key name  data\n",
      "3   A   N2    13\n",
      "4   B   N3    14\n",
      "5   C   N4    15\n"
     ]
    }
   ],
   "source": [
    "print(grouped.filter(lambda x: x.data > 12))"
   ]
  },
  {
   "cell_type": "code",
   "execution_count": 17,
   "metadata": {},
   "outputs": [
    {
     "name": "stdout",
     "output_type": "stream",
     "text": [
      "   key name  data\n",
      "0  NaN  NaN   NaN\n",
      "1  NaN  NaN   NaN\n",
      "2  NaN  NaN   NaN\n",
      "3    A   N2  13.0\n",
      "4    B   N3  14.0\n",
      "5    C   N4  15.0\n"
     ]
    }
   ],
   "source": [
    "print(grouped.filter(lambda x: x.data > 12, dropna=False))"
   ]
  }
 ],
 "metadata": {
  "interpreter": {
   "hash": "243bc61009ac3c06a8b45087476b60abf2506a912759ea1a2c38e4670409b10f"
  },
  "kernelspec": {
   "display_name": "Python 3.8.2 ('venv': venv)",
   "language": "python",
   "name": "python3"
  },
  "language_info": {
   "codemirror_mode": {
    "name": "ipython",
    "version": 3
   },
   "file_extension": ".py",
   "mimetype": "text/x-python",
   "name": "python",
   "nbconvert_exporter": "python",
   "pygments_lexer": "ipython3",
   "version": "3.8.2"
  },
  "orig_nbformat": 2
 },
 "nbformat": 4,
 "nbformat_minor": 2
}
