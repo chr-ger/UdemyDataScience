{
 "cells": [
  {
   "cell_type": "markdown",
   "metadata": {},
   "source": [
    "# Missing Data\n",
    "\n",
    "NaN is the default missing value marker for reasons of computational speed and convenience.  \n",
    "Pandas will be able to easily detect a NaN value with data of different types: floating point, integer, boolean, and general object."
   ]
  },
  {
   "cell_type": "code",
   "execution_count": 46,
   "metadata": {
    "collapsed": true
   },
   "outputs": [],
   "source": [
    "import numpy as np\n",
    "np.random.seed(0)\n",
    "import pandas as pd"
   ]
  },
  {
   "cell_type": "code",
   "execution_count": 47,
   "metadata": {
    "collapsed": false
   },
   "outputs": [
    {
     "name": "stdout",
     "output_type": "stream",
     "text": [
      "nan\n"
     ]
    }
   ],
   "source": [
    "print(1 + np.nan)"
   ]
  },
  {
   "cell_type": "code",
   "execution_count": 48,
   "metadata": {
    "collapsed": false
   },
   "outputs": [
    {
     "name": "stdout",
     "output_type": "stream",
     "text": [
      "nan\n"
     ]
    }
   ],
   "source": [
    "print(0 *  np.nan)"
   ]
  },
  {
   "cell_type": "code",
   "execution_count": 49,
   "metadata": {},
   "outputs": [
    {
     "name": "stdout",
     "output_type": "stream",
     "text": [
      "True\n"
     ]
    }
   ],
   "source": [
    "print(np.nan != np.nan)"
   ]
  },
  {
   "cell_type": "code",
   "execution_count": 50,
   "metadata": {},
   "outputs": [
    {
     "name": "stdout",
     "output_type": "stream",
     "text": [
      "False\n"
     ]
    }
   ],
   "source": [
    "print(np.nan == np.nan)"
   ]
  },
  {
   "cell_type": "code",
   "execution_count": 51,
   "metadata": {
    "collapsed": false
   },
   "outputs": [
    {
     "name": "stdout",
     "output_type": "stream",
     "text": [
      "[1 None 3 4]\n"
     ]
    }
   ],
   "source": [
    "data = np.array([1, None, 3, 4])\n",
    "\n",
    "print(data)"
   ]
  },
  {
   "cell_type": "code",
   "execution_count": 52,
   "metadata": {},
   "outputs": [
    {
     "name": "stdout",
     "output_type": "stream",
     "text": [
      "[ 1. nan  3.  4.]\n"
     ]
    }
   ],
   "source": [
    "data = np.array([1, np.nan, 3, 4]) \n",
    "\n",
    "print(data)"
   ]
  },
  {
   "cell_type": "code",
   "execution_count": 53,
   "metadata": {
    "collapsed": false
   },
   "outputs": [
    {
     "name": "stdout",
     "output_type": "stream",
     "text": [
      "nan\n"
     ]
    }
   ],
   "source": [
    "print(np.sum(data))"
   ]
  },
  {
   "cell_type": "code",
   "execution_count": 54,
   "metadata": {
    "collapsed": false
   },
   "outputs": [
    {
     "name": "stdout",
     "output_type": "stream",
     "text": [
      "8.0\n"
     ]
    }
   ],
   "source": [
    "print(np.nansum(data))"
   ]
  },
  {
   "cell_type": "code",
   "execution_count": 55,
   "metadata": {
    "collapsed": false
   },
   "outputs": [
    {
     "data": {
      "text/plain": [
       "0    1.0\n",
       "1    NaN\n",
       "2    2.0\n",
       "3    NaN\n",
       "dtype: float64"
      ]
     },
     "execution_count": 55,
     "metadata": {},
     "output_type": "execute_result"
    }
   ],
   "source": [
    "pd.Series([1, np.nan, 2, None])"
   ]
  },
  {
   "cell_type": "markdown",
   "metadata": {},
   "source": [
    "## Pandas NaN Examples"
   ]
  },
  {
   "cell_type": "code",
   "execution_count": 56,
   "metadata": {},
   "outputs": [],
   "source": [
    "def highlight_nan(data: pd.DataFrame, color: str) -> pd.DataFrame:\n",
    "    attr = f'background-color: {color}'\n",
    "    is_nan = pd.isna(data)\n",
    "    return pd.DataFrame(\n",
    "        np.where(is_nan, attr, ''),\n",
    "        index=data.index,\n",
    "        columns=data.columns\n",
    "    )\n",
    "\n",
    "def df_info(df: pd.DataFrame) -> None:\n",
    "    return df.style.apply(\n",
    "        highlight_nan,\n",
    "        color='darkorange',\n",
    "        axis=None\n",
    "    )"
   ]
  },
  {
   "cell_type": "code",
   "execution_count": 57,
   "metadata": {
    "collapsed": false
   },
   "outputs": [
    {
     "data": {
      "text/html": [
       "<style type=\"text/css\">\n",
       "</style>\n",
       "<table id=\"T_7ca71\">\n",
       "  <thead>\n",
       "    <tr>\n",
       "      <th class=\"blank level0\" >&nbsp;</th>\n",
       "      <th id=\"T_7ca71_level0_col0\" class=\"col_heading level0 col0\" >one</th>\n",
       "      <th id=\"T_7ca71_level0_col1\" class=\"col_heading level0 col1\" >two</th>\n",
       "      <th id=\"T_7ca71_level0_col2\" class=\"col_heading level0 col2\" >three</th>\n",
       "    </tr>\n",
       "  </thead>\n",
       "  <tbody>\n",
       "    <tr>\n",
       "      <th id=\"T_7ca71_level0_row0\" class=\"row_heading level0 row0\" >a</th>\n",
       "      <td id=\"T_7ca71_row0_col0\" class=\"data row0 col0\" >1.764052</td>\n",
       "      <td id=\"T_7ca71_row0_col1\" class=\"data row0 col1\" >0.400157</td>\n",
       "      <td id=\"T_7ca71_row0_col2\" class=\"data row0 col2\" >0.978738</td>\n",
       "    </tr>\n",
       "    <tr>\n",
       "      <th id=\"T_7ca71_level0_row1\" class=\"row_heading level0 row1\" >c</th>\n",
       "      <td id=\"T_7ca71_row1_col0\" class=\"data row1 col0\" >2.240893</td>\n",
       "      <td id=\"T_7ca71_row1_col1\" class=\"data row1 col1\" >1.867558</td>\n",
       "      <td id=\"T_7ca71_row1_col2\" class=\"data row1 col2\" >-0.977278</td>\n",
       "    </tr>\n",
       "    <tr>\n",
       "      <th id=\"T_7ca71_level0_row2\" class=\"row_heading level0 row2\" >e</th>\n",
       "      <td id=\"T_7ca71_row2_col0\" class=\"data row2 col0\" >0.950088</td>\n",
       "      <td id=\"T_7ca71_row2_col1\" class=\"data row2 col1\" >-0.151357</td>\n",
       "      <td id=\"T_7ca71_row2_col2\" class=\"data row2 col2\" >-0.103219</td>\n",
       "    </tr>\n",
       "    <tr>\n",
       "      <th id=\"T_7ca71_level0_row3\" class=\"row_heading level0 row3\" >f</th>\n",
       "      <td id=\"T_7ca71_row3_col0\" class=\"data row3 col0\" >0.410599</td>\n",
       "      <td id=\"T_7ca71_row3_col1\" class=\"data row3 col1\" >0.144044</td>\n",
       "      <td id=\"T_7ca71_row3_col2\" class=\"data row3 col2\" >1.454274</td>\n",
       "    </tr>\n",
       "    <tr>\n",
       "      <th id=\"T_7ca71_level0_row4\" class=\"row_heading level0 row4\" >h</th>\n",
       "      <td id=\"T_7ca71_row4_col0\" class=\"data row4 col0\" >0.761038</td>\n",
       "      <td id=\"T_7ca71_row4_col1\" class=\"data row4 col1\" >0.121675</td>\n",
       "      <td id=\"T_7ca71_row4_col2\" class=\"data row4 col2\" >0.443863</td>\n",
       "    </tr>\n",
       "  </tbody>\n",
       "</table>\n"
      ],
      "text/plain": [
       "<pandas.io.formats.style.Styler at 0x1a72a1113d0>"
      ]
     },
     "execution_count": 57,
     "metadata": {},
     "output_type": "execute_result"
    }
   ],
   "source": [
    "df = pd.DataFrame(\n",
    "    np.random.randn(5, 3),\n",
    "    index=[\"a\", \"c\", \"e\", \"f\", \"h\"],\n",
    "    columns=[\"one\", \"two\", \"three\"],\n",
    ")\n",
    "\n",
    "df_info(df)"
   ]
  },
  {
   "cell_type": "code",
   "execution_count": 58,
   "metadata": {},
   "outputs": [
    {
     "data": {
      "text/html": [
       "<style type=\"text/css\">\n",
       "#T_0ce84_row0_col0, #T_0ce84_row3_col1 {\n",
       "  background-color: darkorange;\n",
       "}\n",
       "</style>\n",
       "<table id=\"T_0ce84\">\n",
       "  <thead>\n",
       "    <tr>\n",
       "      <th class=\"blank level0\" >&nbsp;</th>\n",
       "      <th id=\"T_0ce84_level0_col0\" class=\"col_heading level0 col0\" >one</th>\n",
       "      <th id=\"T_0ce84_level0_col1\" class=\"col_heading level0 col1\" >two</th>\n",
       "      <th id=\"T_0ce84_level0_col2\" class=\"col_heading level0 col2\" >three</th>\n",
       "    </tr>\n",
       "  </thead>\n",
       "  <tbody>\n",
       "    <tr>\n",
       "      <th id=\"T_0ce84_level0_row0\" class=\"row_heading level0 row0\" >a</th>\n",
       "      <td id=\"T_0ce84_row0_col0\" class=\"data row0 col0\" >nan</td>\n",
       "      <td id=\"T_0ce84_row0_col1\" class=\"data row0 col1\" >0.400157</td>\n",
       "      <td id=\"T_0ce84_row0_col2\" class=\"data row0 col2\" >0.978738</td>\n",
       "    </tr>\n",
       "    <tr>\n",
       "      <th id=\"T_0ce84_level0_row1\" class=\"row_heading level0 row1\" >c</th>\n",
       "      <td id=\"T_0ce84_row1_col0\" class=\"data row1 col0\" >2.240893</td>\n",
       "      <td id=\"T_0ce84_row1_col1\" class=\"data row1 col1\" >1.867558</td>\n",
       "      <td id=\"T_0ce84_row1_col2\" class=\"data row1 col2\" >-0.977278</td>\n",
       "    </tr>\n",
       "    <tr>\n",
       "      <th id=\"T_0ce84_level0_row2\" class=\"row_heading level0 row2\" >e</th>\n",
       "      <td id=\"T_0ce84_row2_col0\" class=\"data row2 col0\" >0.950088</td>\n",
       "      <td id=\"T_0ce84_row2_col1\" class=\"data row2 col1\" >-0.151357</td>\n",
       "      <td id=\"T_0ce84_row2_col2\" class=\"data row2 col2\" >-0.103219</td>\n",
       "    </tr>\n",
       "    <tr>\n",
       "      <th id=\"T_0ce84_level0_row3\" class=\"row_heading level0 row3\" >f</th>\n",
       "      <td id=\"T_0ce84_row3_col0\" class=\"data row3 col0\" >0.410599</td>\n",
       "      <td id=\"T_0ce84_row3_col1\" class=\"data row3 col1\" >nan</td>\n",
       "      <td id=\"T_0ce84_row3_col2\" class=\"data row3 col2\" >1.454274</td>\n",
       "    </tr>\n",
       "    <tr>\n",
       "      <th id=\"T_0ce84_level0_row4\" class=\"row_heading level0 row4\" >h</th>\n",
       "      <td id=\"T_0ce84_row4_col0\" class=\"data row4 col0\" >0.761038</td>\n",
       "      <td id=\"T_0ce84_row4_col1\" class=\"data row4 col1\" >0.121675</td>\n",
       "      <td id=\"T_0ce84_row4_col2\" class=\"data row4 col2\" >0.443863</td>\n",
       "    </tr>\n",
       "  </tbody>\n",
       "</table>\n"
      ],
      "text/plain": [
       "<pandas.io.formats.style.Styler at 0x1a72a111af0>"
      ]
     },
     "execution_count": 58,
     "metadata": {},
     "output_type": "execute_result"
    }
   ],
   "source": [
    "df[\"one\"][\"a\"] = None\n",
    "df[\"two\"][\"f\"] = None\n",
    "\n",
    "df_info(df)"
   ]
  },
  {
   "cell_type": "code",
   "execution_count": 59,
   "metadata": {},
   "outputs": [
    {
     "data": {
      "text/html": [
       "<style type=\"text/css\">\n",
       "</style>\n",
       "<table id=\"T_e16cf\">\n",
       "  <thead>\n",
       "    <tr>\n",
       "      <th class=\"blank level0\" >&nbsp;</th>\n",
       "      <th id=\"T_e16cf_level0_col0\" class=\"col_heading level0 col0\" >one</th>\n",
       "      <th id=\"T_e16cf_level0_col1\" class=\"col_heading level0 col1\" >two</th>\n",
       "      <th id=\"T_e16cf_level0_col2\" class=\"col_heading level0 col2\" >three</th>\n",
       "    </tr>\n",
       "  </thead>\n",
       "  <tbody>\n",
       "    <tr>\n",
       "      <th id=\"T_e16cf_level0_row0\" class=\"row_heading level0 row0\" >a</th>\n",
       "      <td id=\"T_e16cf_row0_col0\" class=\"data row0 col0\" >True</td>\n",
       "      <td id=\"T_e16cf_row0_col1\" class=\"data row0 col1\" >False</td>\n",
       "      <td id=\"T_e16cf_row0_col2\" class=\"data row0 col2\" >False</td>\n",
       "    </tr>\n",
       "    <tr>\n",
       "      <th id=\"T_e16cf_level0_row1\" class=\"row_heading level0 row1\" >c</th>\n",
       "      <td id=\"T_e16cf_row1_col0\" class=\"data row1 col0\" >False</td>\n",
       "      <td id=\"T_e16cf_row1_col1\" class=\"data row1 col1\" >False</td>\n",
       "      <td id=\"T_e16cf_row1_col2\" class=\"data row1 col2\" >False</td>\n",
       "    </tr>\n",
       "    <tr>\n",
       "      <th id=\"T_e16cf_level0_row2\" class=\"row_heading level0 row2\" >e</th>\n",
       "      <td id=\"T_e16cf_row2_col0\" class=\"data row2 col0\" >False</td>\n",
       "      <td id=\"T_e16cf_row2_col1\" class=\"data row2 col1\" >False</td>\n",
       "      <td id=\"T_e16cf_row2_col2\" class=\"data row2 col2\" >False</td>\n",
       "    </tr>\n",
       "    <tr>\n",
       "      <th id=\"T_e16cf_level0_row3\" class=\"row_heading level0 row3\" >f</th>\n",
       "      <td id=\"T_e16cf_row3_col0\" class=\"data row3 col0\" >False</td>\n",
       "      <td id=\"T_e16cf_row3_col1\" class=\"data row3 col1\" >True</td>\n",
       "      <td id=\"T_e16cf_row3_col2\" class=\"data row3 col2\" >False</td>\n",
       "    </tr>\n",
       "    <tr>\n",
       "      <th id=\"T_e16cf_level0_row4\" class=\"row_heading level0 row4\" >h</th>\n",
       "      <td id=\"T_e16cf_row4_col0\" class=\"data row4 col0\" >False</td>\n",
       "      <td id=\"T_e16cf_row4_col1\" class=\"data row4 col1\" >False</td>\n",
       "      <td id=\"T_e16cf_row4_col2\" class=\"data row4 col2\" >False</td>\n",
       "    </tr>\n",
       "  </tbody>\n",
       "</table>\n"
      ],
      "text/plain": [
       "<pandas.io.formats.style.Styler at 0x1a72a111c70>"
      ]
     },
     "execution_count": 59,
     "metadata": {},
     "output_type": "execute_result"
    }
   ],
   "source": [
    "df_info(pd.isna(df))"
   ]
  },
  {
   "cell_type": "code",
   "execution_count": 61,
   "metadata": {},
   "outputs": [
    {
     "data": {
      "text/plain": [
       "a     True\n",
       "c    False\n",
       "e    False\n",
       "f     True\n",
       "h    False\n",
       "dtype: bool"
      ]
     },
     "execution_count": 61,
     "metadata": {},
     "output_type": "execute_result"
    }
   ],
   "source": [
    "df_check = pd.isna(df)\n",
    "\n",
    "df_check.any(axis=1)  # internally used for the dropna function"
   ]
  },
  {
   "cell_type": "markdown",
   "metadata": {},
   "source": [
    "#### Remove NaN Values"
   ]
  },
  {
   "cell_type": "code",
   "execution_count": 16,
   "metadata": {
    "collapsed": false
   },
   "outputs": [
    {
     "data": {
      "text/html": [
       "<style type=\"text/css\">\n",
       "</style>\n",
       "<table id=\"T_7d914\">\n",
       "  <thead>\n",
       "    <tr>\n",
       "      <th class=\"blank level0\" >&nbsp;</th>\n",
       "      <th id=\"T_7d914_level0_col0\" class=\"col_heading level0 col0\" >one</th>\n",
       "      <th id=\"T_7d914_level0_col1\" class=\"col_heading level0 col1\" >two</th>\n",
       "      <th id=\"T_7d914_level0_col2\" class=\"col_heading level0 col2\" >three</th>\n",
       "    </tr>\n",
       "  </thead>\n",
       "  <tbody>\n",
       "    <tr>\n",
       "      <th id=\"T_7d914_level0_row0\" class=\"row_heading level0 row0\" >c</th>\n",
       "      <td id=\"T_7d914_row0_col0\" class=\"data row0 col0\" >2.240893</td>\n",
       "      <td id=\"T_7d914_row0_col1\" class=\"data row0 col1\" >1.867558</td>\n",
       "      <td id=\"T_7d914_row0_col2\" class=\"data row0 col2\" >-0.977278</td>\n",
       "    </tr>\n",
       "    <tr>\n",
       "      <th id=\"T_7d914_level0_row1\" class=\"row_heading level0 row1\" >e</th>\n",
       "      <td id=\"T_7d914_row1_col0\" class=\"data row1 col0\" >0.950088</td>\n",
       "      <td id=\"T_7d914_row1_col1\" class=\"data row1 col1\" >-0.151357</td>\n",
       "      <td id=\"T_7d914_row1_col2\" class=\"data row1 col2\" >-0.103219</td>\n",
       "    </tr>\n",
       "    <tr>\n",
       "      <th id=\"T_7d914_level0_row2\" class=\"row_heading level0 row2\" >h</th>\n",
       "      <td id=\"T_7d914_row2_col0\" class=\"data row2 col0\" >0.761038</td>\n",
       "      <td id=\"T_7d914_row2_col1\" class=\"data row2 col1\" >0.121675</td>\n",
       "      <td id=\"T_7d914_row2_col2\" class=\"data row2 col2\" >0.443863</td>\n",
       "    </tr>\n",
       "  </tbody>\n",
       "</table>\n"
      ],
      "text/plain": [
       "<pandas.io.formats.style.Styler at 0x1a727e651f0>"
      ]
     },
     "execution_count": 16,
     "metadata": {},
     "output_type": "execute_result"
    }
   ],
   "source": [
    "df_info(df.dropna())  #default is drop rows"
   ]
  },
  {
   "cell_type": "code",
   "execution_count": 17,
   "metadata": {
    "collapsed": false
   },
   "outputs": [
    {
     "data": {
      "text/html": [
       "<style type=\"text/css\">\n",
       "</style>\n",
       "<table id=\"T_39f6d\">\n",
       "  <thead>\n",
       "    <tr>\n",
       "      <th class=\"blank level0\" >&nbsp;</th>\n",
       "      <th id=\"T_39f6d_level0_col0\" class=\"col_heading level0 col0\" >three</th>\n",
       "    </tr>\n",
       "  </thead>\n",
       "  <tbody>\n",
       "    <tr>\n",
       "      <th id=\"T_39f6d_level0_row0\" class=\"row_heading level0 row0\" >a</th>\n",
       "      <td id=\"T_39f6d_row0_col0\" class=\"data row0 col0\" >0.978738</td>\n",
       "    </tr>\n",
       "    <tr>\n",
       "      <th id=\"T_39f6d_level0_row1\" class=\"row_heading level0 row1\" >c</th>\n",
       "      <td id=\"T_39f6d_row1_col0\" class=\"data row1 col0\" >-0.977278</td>\n",
       "    </tr>\n",
       "    <tr>\n",
       "      <th id=\"T_39f6d_level0_row2\" class=\"row_heading level0 row2\" >e</th>\n",
       "      <td id=\"T_39f6d_row2_col0\" class=\"data row2 col0\" >-0.103219</td>\n",
       "    </tr>\n",
       "    <tr>\n",
       "      <th id=\"T_39f6d_level0_row3\" class=\"row_heading level0 row3\" >f</th>\n",
       "      <td id=\"T_39f6d_row3_col0\" class=\"data row3 col0\" >1.454274</td>\n",
       "    </tr>\n",
       "    <tr>\n",
       "      <th id=\"T_39f6d_level0_row4\" class=\"row_heading level0 row4\" >h</th>\n",
       "      <td id=\"T_39f6d_row4_col0\" class=\"data row4 col0\" >0.443863</td>\n",
       "    </tr>\n",
       "  </tbody>\n",
       "</table>\n"
      ],
      "text/plain": [
       "<pandas.io.formats.style.Styler at 0x1a727e65fd0>"
      ]
     },
     "execution_count": 17,
     "metadata": {},
     "output_type": "execute_result"
    }
   ],
   "source": [
    "df_info(df.dropna(axis='columns'))"
   ]
  },
  {
   "cell_type": "code",
   "execution_count": 18,
   "metadata": {},
   "outputs": [
    {
     "data": {
      "text/html": [
       "<style type=\"text/css\">\n",
       "</style>\n",
       "<table id=\"T_fda5e\">\n",
       "  <thead>\n",
       "    <tr>\n",
       "      <th class=\"blank level0\" >&nbsp;</th>\n",
       "      <th id=\"T_fda5e_level0_col0\" class=\"col_heading level0 col0\" >one</th>\n",
       "      <th id=\"T_fda5e_level0_col1\" class=\"col_heading level0 col1\" >two</th>\n",
       "      <th id=\"T_fda5e_level0_col2\" class=\"col_heading level0 col2\" >three</th>\n",
       "    </tr>\n",
       "  </thead>\n",
       "  <tbody>\n",
       "    <tr>\n",
       "      <th id=\"T_fda5e_level0_row0\" class=\"row_heading level0 row0\" >c</th>\n",
       "      <td id=\"T_fda5e_row0_col0\" class=\"data row0 col0\" >2.240893</td>\n",
       "      <td id=\"T_fda5e_row0_col1\" class=\"data row0 col1\" >1.867558</td>\n",
       "      <td id=\"T_fda5e_row0_col2\" class=\"data row0 col2\" >-0.977278</td>\n",
       "    </tr>\n",
       "    <tr>\n",
       "      <th id=\"T_fda5e_level0_row1\" class=\"row_heading level0 row1\" >e</th>\n",
       "      <td id=\"T_fda5e_row1_col0\" class=\"data row1 col0\" >0.950088</td>\n",
       "      <td id=\"T_fda5e_row1_col1\" class=\"data row1 col1\" >-0.151357</td>\n",
       "      <td id=\"T_fda5e_row1_col2\" class=\"data row1 col2\" >-0.103219</td>\n",
       "    </tr>\n",
       "    <tr>\n",
       "      <th id=\"T_fda5e_level0_row2\" class=\"row_heading level0 row2\" >h</th>\n",
       "      <td id=\"T_fda5e_row2_col0\" class=\"data row2 col0\" >0.761038</td>\n",
       "      <td id=\"T_fda5e_row2_col1\" class=\"data row2 col1\" >0.121675</td>\n",
       "      <td id=\"T_fda5e_row2_col2\" class=\"data row2 col2\" >0.443863</td>\n",
       "    </tr>\n",
       "  </tbody>\n",
       "</table>\n"
      ],
      "text/plain": [
       "<pandas.io.formats.style.Styler at 0x1a727e65340>"
      ]
     },
     "execution_count": 18,
     "metadata": {},
     "output_type": "execute_result"
    }
   ],
   "source": [
    "df_info(df.dropna(axis='rows')) #same as default"
   ]
  },
  {
   "cell_type": "markdown",
   "metadata": {},
   "source": [
    "Operations with NaN Values\n",
    "\n",
    "- When summing data, NA (missing) values will be treated as zero.\n",
    "- If the data are all NA, the result will be 0.\n",
    "- Cumulative methods like cumsum() and cumprod() ignore NA values by default, but preserve them in the resulting arrays. To override this behaviour and include NA values, use skipna=False."
   ]
  },
  {
   "cell_type": "code",
   "execution_count": 19,
   "metadata": {},
   "outputs": [
    {
     "data": {
      "text/html": [
       "<style type=\"text/css\">\n",
       "#T_726ea_row0_col0, #T_726ea_row3_col1 {\n",
       "  background-color: darkorange;\n",
       "}\n",
       "</style>\n",
       "<table id=\"T_726ea\">\n",
       "  <thead>\n",
       "    <tr>\n",
       "      <th class=\"blank level0\" >&nbsp;</th>\n",
       "      <th id=\"T_726ea_level0_col0\" class=\"col_heading level0 col0\" >one</th>\n",
       "      <th id=\"T_726ea_level0_col1\" class=\"col_heading level0 col1\" >two</th>\n",
       "      <th id=\"T_726ea_level0_col2\" class=\"col_heading level0 col2\" >three</th>\n",
       "    </tr>\n",
       "  </thead>\n",
       "  <tbody>\n",
       "    <tr>\n",
       "      <th id=\"T_726ea_level0_row0\" class=\"row_heading level0 row0\" >a</th>\n",
       "      <td id=\"T_726ea_row0_col0\" class=\"data row0 col0\" >nan</td>\n",
       "      <td id=\"T_726ea_row0_col1\" class=\"data row0 col1\" >0.400157</td>\n",
       "      <td id=\"T_726ea_row0_col2\" class=\"data row0 col2\" >0.978738</td>\n",
       "    </tr>\n",
       "    <tr>\n",
       "      <th id=\"T_726ea_level0_row1\" class=\"row_heading level0 row1\" >c</th>\n",
       "      <td id=\"T_726ea_row1_col0\" class=\"data row1 col0\" >2.240893</td>\n",
       "      <td id=\"T_726ea_row1_col1\" class=\"data row1 col1\" >1.867558</td>\n",
       "      <td id=\"T_726ea_row1_col2\" class=\"data row1 col2\" >-0.977278</td>\n",
       "    </tr>\n",
       "    <tr>\n",
       "      <th id=\"T_726ea_level0_row2\" class=\"row_heading level0 row2\" >e</th>\n",
       "      <td id=\"T_726ea_row2_col0\" class=\"data row2 col0\" >0.950088</td>\n",
       "      <td id=\"T_726ea_row2_col1\" class=\"data row2 col1\" >-0.151357</td>\n",
       "      <td id=\"T_726ea_row2_col2\" class=\"data row2 col2\" >-0.103219</td>\n",
       "    </tr>\n",
       "    <tr>\n",
       "      <th id=\"T_726ea_level0_row3\" class=\"row_heading level0 row3\" >f</th>\n",
       "      <td id=\"T_726ea_row3_col0\" class=\"data row3 col0\" >0.410599</td>\n",
       "      <td id=\"T_726ea_row3_col1\" class=\"data row3 col1\" >nan</td>\n",
       "      <td id=\"T_726ea_row3_col2\" class=\"data row3 col2\" >1.454274</td>\n",
       "    </tr>\n",
       "    <tr>\n",
       "      <th id=\"T_726ea_level0_row4\" class=\"row_heading level0 row4\" >h</th>\n",
       "      <td id=\"T_726ea_row4_col0\" class=\"data row4 col0\" >0.761038</td>\n",
       "      <td id=\"T_726ea_row4_col1\" class=\"data row4 col1\" >0.121675</td>\n",
       "      <td id=\"T_726ea_row4_col2\" class=\"data row4 col2\" >0.443863</td>\n",
       "    </tr>\n",
       "  </tbody>\n",
       "</table>\n"
      ],
      "text/plain": [
       "<pandas.io.formats.style.Styler at 0x1a706bff550>"
      ]
     },
     "execution_count": 19,
     "metadata": {},
     "output_type": "execute_result"
    }
   ],
   "source": [
    "df_info(df)"
   ]
  },
  {
   "cell_type": "code",
   "execution_count": 63,
   "metadata": {},
   "outputs": [
    {
     "name": "stdout",
     "output_type": "stream",
     "text": [
      "2.238033006712321\n"
     ]
    }
   ],
   "source": [
    "print(df[\"two\"].sum())  #pandas automatically treats nan as zero for addition, in np you have to use nansum()"
   ]
  },
  {
   "cell_type": "code",
   "execution_count": 21,
   "metadata": {},
   "outputs": [
    {
     "name": "stdout",
     "output_type": "stream",
     "text": [
      "one      4.362618\n",
      "two      2.238033\n",
      "three    1.796378\n",
      "dtype: float64\n"
     ]
    }
   ],
   "source": [
    "print(df.sum())"
   ]
  },
  {
   "cell_type": "markdown",
   "metadata": {},
   "source": [
    "#### Fill NaN values"
   ]
  },
  {
   "cell_type": "code",
   "execution_count": 22,
   "metadata": {},
   "outputs": [
    {
     "data": {
      "text/html": [
       "<style type=\"text/css\">\n",
       "</style>\n",
       "<table id=\"T_591c2\">\n",
       "  <thead>\n",
       "    <tr>\n",
       "      <th class=\"blank level0\" >&nbsp;</th>\n",
       "      <th id=\"T_591c2_level0_col0\" class=\"col_heading level0 col0\" >one</th>\n",
       "      <th id=\"T_591c2_level0_col1\" class=\"col_heading level0 col1\" >two</th>\n",
       "      <th id=\"T_591c2_level0_col2\" class=\"col_heading level0 col2\" >three</th>\n",
       "    </tr>\n",
       "  </thead>\n",
       "  <tbody>\n",
       "    <tr>\n",
       "      <th id=\"T_591c2_level0_row0\" class=\"row_heading level0 row0\" >a</th>\n",
       "      <td id=\"T_591c2_row0_col0\" class=\"data row0 col0\" >0.000000</td>\n",
       "      <td id=\"T_591c2_row0_col1\" class=\"data row0 col1\" >0.400157</td>\n",
       "      <td id=\"T_591c2_row0_col2\" class=\"data row0 col2\" >0.978738</td>\n",
       "    </tr>\n",
       "    <tr>\n",
       "      <th id=\"T_591c2_level0_row1\" class=\"row_heading level0 row1\" >c</th>\n",
       "      <td id=\"T_591c2_row1_col0\" class=\"data row1 col0\" >2.240893</td>\n",
       "      <td id=\"T_591c2_row1_col1\" class=\"data row1 col1\" >1.867558</td>\n",
       "      <td id=\"T_591c2_row1_col2\" class=\"data row1 col2\" >-0.977278</td>\n",
       "    </tr>\n",
       "    <tr>\n",
       "      <th id=\"T_591c2_level0_row2\" class=\"row_heading level0 row2\" >e</th>\n",
       "      <td id=\"T_591c2_row2_col0\" class=\"data row2 col0\" >0.950088</td>\n",
       "      <td id=\"T_591c2_row2_col1\" class=\"data row2 col1\" >-0.151357</td>\n",
       "      <td id=\"T_591c2_row2_col2\" class=\"data row2 col2\" >-0.103219</td>\n",
       "    </tr>\n",
       "    <tr>\n",
       "      <th id=\"T_591c2_level0_row3\" class=\"row_heading level0 row3\" >f</th>\n",
       "      <td id=\"T_591c2_row3_col0\" class=\"data row3 col0\" >0.410599</td>\n",
       "      <td id=\"T_591c2_row3_col1\" class=\"data row3 col1\" >0.000000</td>\n",
       "      <td id=\"T_591c2_row3_col2\" class=\"data row3 col2\" >1.454274</td>\n",
       "    </tr>\n",
       "    <tr>\n",
       "      <th id=\"T_591c2_level0_row4\" class=\"row_heading level0 row4\" >h</th>\n",
       "      <td id=\"T_591c2_row4_col0\" class=\"data row4 col0\" >0.761038</td>\n",
       "      <td id=\"T_591c2_row4_col1\" class=\"data row4 col1\" >0.121675</td>\n",
       "      <td id=\"T_591c2_row4_col2\" class=\"data row4 col2\" >0.443863</td>\n",
       "    </tr>\n",
       "  </tbody>\n",
       "</table>\n"
      ],
      "text/plain": [
       "<pandas.io.formats.style.Styler at 0x1a727e8ac40>"
      ]
     },
     "execution_count": 22,
     "metadata": {},
     "output_type": "execute_result"
    }
   ],
   "source": [
    "df_info(df.fillna(value=0.0))"
   ]
  },
  {
   "cell_type": "code",
   "execution_count": 23,
   "metadata": {},
   "outputs": [
    {
     "data": {
      "text/html": [
       "<style type=\"text/css\">\n",
       "</style>\n",
       "<table id=\"T_df4aa\">\n",
       "  <thead>\n",
       "    <tr>\n",
       "      <th class=\"blank level0\" >&nbsp;</th>\n",
       "      <th id=\"T_df4aa_level0_col0\" class=\"col_heading level0 col0\" >one</th>\n",
       "      <th id=\"T_df4aa_level0_col1\" class=\"col_heading level0 col1\" >two</th>\n",
       "      <th id=\"T_df4aa_level0_col2\" class=\"col_heading level0 col2\" >three</th>\n",
       "    </tr>\n",
       "  </thead>\n",
       "  <tbody>\n",
       "    <tr>\n",
       "      <th id=\"T_df4aa_level0_row0\" class=\"row_heading level0 row0\" >a</th>\n",
       "      <td id=\"T_df4aa_row0_col0\" class=\"data row0 col0\" >missing</td>\n",
       "      <td id=\"T_df4aa_row0_col1\" class=\"data row0 col1\" >0.400157</td>\n",
       "      <td id=\"T_df4aa_row0_col2\" class=\"data row0 col2\" >0.978738</td>\n",
       "    </tr>\n",
       "    <tr>\n",
       "      <th id=\"T_df4aa_level0_row1\" class=\"row_heading level0 row1\" >c</th>\n",
       "      <td id=\"T_df4aa_row1_col0\" class=\"data row1 col0\" >2.240893</td>\n",
       "      <td id=\"T_df4aa_row1_col1\" class=\"data row1 col1\" >1.867558</td>\n",
       "      <td id=\"T_df4aa_row1_col2\" class=\"data row1 col2\" >-0.977278</td>\n",
       "    </tr>\n",
       "    <tr>\n",
       "      <th id=\"T_df4aa_level0_row2\" class=\"row_heading level0 row2\" >e</th>\n",
       "      <td id=\"T_df4aa_row2_col0\" class=\"data row2 col0\" >0.950088</td>\n",
       "      <td id=\"T_df4aa_row2_col1\" class=\"data row2 col1\" >-0.151357</td>\n",
       "      <td id=\"T_df4aa_row2_col2\" class=\"data row2 col2\" >-0.103219</td>\n",
       "    </tr>\n",
       "    <tr>\n",
       "      <th id=\"T_df4aa_level0_row3\" class=\"row_heading level0 row3\" >f</th>\n",
       "      <td id=\"T_df4aa_row3_col0\" class=\"data row3 col0\" >0.410599</td>\n",
       "      <td id=\"T_df4aa_row3_col1\" class=\"data row3 col1\" >missing</td>\n",
       "      <td id=\"T_df4aa_row3_col2\" class=\"data row3 col2\" >1.454274</td>\n",
       "    </tr>\n",
       "    <tr>\n",
       "      <th id=\"T_df4aa_level0_row4\" class=\"row_heading level0 row4\" >h</th>\n",
       "      <td id=\"T_df4aa_row4_col0\" class=\"data row4 col0\" >0.761038</td>\n",
       "      <td id=\"T_df4aa_row4_col1\" class=\"data row4 col1\" >0.121675</td>\n",
       "      <td id=\"T_df4aa_row4_col2\" class=\"data row4 col2\" >0.443863</td>\n",
       "    </tr>\n",
       "  </tbody>\n",
       "</table>\n"
      ],
      "text/plain": [
       "<pandas.io.formats.style.Styler at 0x1a727e8ab20>"
      ]
     },
     "execution_count": 23,
     "metadata": {},
     "output_type": "execute_result"
    }
   ],
   "source": [
    "df_info(df.fillna(\"missing\"))"
   ]
  },
  {
   "cell_type": "markdown",
   "metadata": {},
   "source": [
    "#### Interpolate"
   ]
  },
  {
   "cell_type": "code",
   "execution_count": 67,
   "metadata": {},
   "outputs": [
    {
     "data": {
      "text/html": [
       "<style type=\"text/css\">\n",
       "#T_8858d_row2_col0, #T_8858d_row6_col0 {\n",
       "  background-color: darkorange;\n",
       "}\n",
       "</style>\n",
       "<table id=\"T_8858d\">\n",
       "  <thead>\n",
       "    <tr>\n",
       "      <th class=\"blank level0\" >&nbsp;</th>\n",
       "      <th id=\"T_8858d_level0_col0\" class=\"col_heading level0 col0\" >temperature</th>\n",
       "    </tr>\n",
       "  </thead>\n",
       "  <tbody>\n",
       "    <tr>\n",
       "      <th id=\"T_8858d_level0_row0\" class=\"row_heading level0 row0\" >2021-04-21 00:00:00</th>\n",
       "      <td id=\"T_8858d_row0_col0\" class=\"data row0 col0\" >-2.412540</td>\n",
       "    </tr>\n",
       "    <tr>\n",
       "      <th id=\"T_8858d_level0_row1\" class=\"row_heading level0 row1\" >2021-04-22 00:00:00</th>\n",
       "      <td id=\"T_8858d_row1_col0\" class=\"data row1 col0\" >-1.840036</td>\n",
       "    </tr>\n",
       "    <tr>\n",
       "      <th id=\"T_8858d_level0_row2\" class=\"row_heading level0 row2\" >2021-04-23 00:00:00</th>\n",
       "      <td id=\"T_8858d_row2_col0\" class=\"data row2 col0\" >nan</td>\n",
       "    </tr>\n",
       "    <tr>\n",
       "      <th id=\"T_8858d_level0_row3\" class=\"row_heading level0 row3\" >2021-04-24 00:00:00</th>\n",
       "      <td id=\"T_8858d_row3_col0\" class=\"data row3 col0\" >-0.019304</td>\n",
       "    </tr>\n",
       "    <tr>\n",
       "      <th id=\"T_8858d_level0_row4\" class=\"row_heading level0 row4\" >2021-04-25 00:00:00</th>\n",
       "      <td id=\"T_8858d_row4_col0\" class=\"data row4 col0\" >0.225346</td>\n",
       "    </tr>\n",
       "    <tr>\n",
       "      <th id=\"T_8858d_level0_row5\" class=\"row_heading level0 row5\" >2021-04-26 00:00:00</th>\n",
       "      <td id=\"T_8858d_row5_col0\" class=\"data row5 col0\" >0.395394</td>\n",
       "    </tr>\n",
       "    <tr>\n",
       "      <th id=\"T_8858d_level0_row6\" class=\"row_heading level0 row6\" >2021-04-27 00:00:00</th>\n",
       "      <td id=\"T_8858d_row6_col0\" class=\"data row6 col0\" >nan</td>\n",
       "    </tr>\n",
       "    <tr>\n",
       "      <th id=\"T_8858d_level0_row7\" class=\"row_heading level0 row7\" >2021-04-28 00:00:00</th>\n",
       "      <td id=\"T_8858d_row7_col0\" class=\"data row7 col0\" >3.404760</td>\n",
       "    </tr>\n",
       "    <tr>\n",
       "      <th id=\"T_8858d_level0_row8\" class=\"row_heading level0 row8\" >2021-04-29 00:00:00</th>\n",
       "      <td id=\"T_8858d_row8_col0\" class=\"data row8 col0\" >3.460581</td>\n",
       "    </tr>\n",
       "    <tr>\n",
       "      <th id=\"T_8858d_level0_row9\" class=\"row_heading level0 row9\" >2021-04-30 00:00:00</th>\n",
       "      <td id=\"T_8858d_row9_col0\" class=\"data row9 col0\" >4.901551</td>\n",
       "    </tr>\n",
       "  </tbody>\n",
       "</table>\n"
      ],
      "text/plain": [
       "<pandas.io.formats.style.Styler at 0x1a72e7d9580>"
      ]
     },
     "execution_count": 67,
     "metadata": {},
     "output_type": "execute_result"
    }
   ],
   "source": [
    "num_samples = 10\n",
    "\n",
    "index = pd.date_range(\n",
    "    \"21/4/2021\",\n",
    "    periods=num_samples\n",
    ")\n",
    "\n",
    "values = 2 * np.sort(np.random.randn(num_samples)) + 1\n",
    "df = pd.DataFrame(values, index, ['temperature'])\n",
    "df.iloc[2] = None\n",
    "df.iloc[6] = None\n",
    "\n",
    "df_info(df)"
   ]
  },
  {
   "cell_type": "code",
   "execution_count": 68,
   "metadata": {},
   "outputs": [
    {
     "data": {
      "image/png": "[encoded data removed]",
      "text/plain": [
       "<Figure size 432x288 with 1 Axes>"
      ]
     },
     "metadata": {
      "needs_background": "light"
     },
     "output_type": "display_data"
    }
   ],
   "source": [
    "df.plot();"
   ]
  },
  {
   "cell_type": "code",
   "execution_count": 69,
   "metadata": {},
   "outputs": [
    {
     "data": {
      "text/html": [
       "<style type=\"text/css\">\n",
       "</style>\n",
       "<table id=\"T_dbe7b\">\n",
       "  <thead>\n",
       "    <tr>\n",
       "      <th class=\"blank level0\" >&nbsp;</th>\n",
       "      <th id=\"T_dbe7b_level0_col0\" class=\"col_heading level0 col0\" >temperature</th>\n",
       "    </tr>\n",
       "  </thead>\n",
       "  <tbody>\n",
       "    <tr>\n",
       "      <th id=\"T_dbe7b_level0_row0\" class=\"row_heading level0 row0\" >2021-04-21 00:00:00</th>\n",
       "      <td id=\"T_dbe7b_row0_col0\" class=\"data row0 col0\" >-2.412540</td>\n",
       "    </tr>\n",
       "    <tr>\n",
       "      <th id=\"T_dbe7b_level0_row1\" class=\"row_heading level0 row1\" >2021-04-22 00:00:00</th>\n",
       "      <td id=\"T_dbe7b_row1_col0\" class=\"data row1 col0\" >-1.840036</td>\n",
       "    </tr>\n",
       "    <tr>\n",
       "      <th id=\"T_dbe7b_level0_row2\" class=\"row_heading level0 row2\" >2021-04-23 00:00:00</th>\n",
       "      <td id=\"T_dbe7b_row2_col0\" class=\"data row2 col0\" >-0.929670</td>\n",
       "    </tr>\n",
       "    <tr>\n",
       "      <th id=\"T_dbe7b_level0_row3\" class=\"row_heading level0 row3\" >2021-04-24 00:00:00</th>\n",
       "      <td id=\"T_dbe7b_row3_col0\" class=\"data row3 col0\" >-0.019304</td>\n",
       "    </tr>\n",
       "    <tr>\n",
       "      <th id=\"T_dbe7b_level0_row4\" class=\"row_heading level0 row4\" >2021-04-25 00:00:00</th>\n",
       "      <td id=\"T_dbe7b_row4_col0\" class=\"data row4 col0\" >0.225346</td>\n",
       "    </tr>\n",
       "    <tr>\n",
       "      <th id=\"T_dbe7b_level0_row5\" class=\"row_heading level0 row5\" >2021-04-26 00:00:00</th>\n",
       "      <td id=\"T_dbe7b_row5_col0\" class=\"data row5 col0\" >0.395394</td>\n",
       "    </tr>\n",
       "    <tr>\n",
       "      <th id=\"T_dbe7b_level0_row6\" class=\"row_heading level0 row6\" >2021-04-27 00:00:00</th>\n",
       "      <td id=\"T_dbe7b_row6_col0\" class=\"data row6 col0\" >1.900077</td>\n",
       "    </tr>\n",
       "    <tr>\n",
       "      <th id=\"T_dbe7b_level0_row7\" class=\"row_heading level0 row7\" >2021-04-28 00:00:00</th>\n",
       "      <td id=\"T_dbe7b_row7_col0\" class=\"data row7 col0\" >3.404760</td>\n",
       "    </tr>\n",
       "    <tr>\n",
       "      <th id=\"T_dbe7b_level0_row8\" class=\"row_heading level0 row8\" >2021-04-29 00:00:00</th>\n",
       "      <td id=\"T_dbe7b_row8_col0\" class=\"data row8 col0\" >3.460581</td>\n",
       "    </tr>\n",
       "    <tr>\n",
       "      <th id=\"T_dbe7b_level0_row9\" class=\"row_heading level0 row9\" >2021-04-30 00:00:00</th>\n",
       "      <td id=\"T_dbe7b_row9_col0\" class=\"data row9 col0\" >4.901551</td>\n",
       "    </tr>\n",
       "  </tbody>\n",
       "</table>\n"
      ],
      "text/plain": [
       "<pandas.io.formats.style.Styler at 0x1a72e83b040>"
      ]
     },
     "execution_count": 69,
     "metadata": {},
     "output_type": "execute_result"
    }
   ],
   "source": [
    "df_info(df.interpolate())"
   ]
  },
  {
   "cell_type": "code",
   "execution_count": 70,
   "metadata": {},
   "outputs": [
    {
     "data": {
      "image/png": "[encoded data removed]",
      "text/plain": [
       "<Figure size 432x288 with 1 Axes>"
      ]
     },
     "metadata": {
      "needs_background": "light"
     },
     "output_type": "display_data"
    }
   ],
   "source": [
    "df.interpolate().plot();"
   ]
  }
 ],
 "metadata": {
  "anaconda-cloud": {},
  "interpreter": {
   "hash": "243bc61009ac3c06a8b45087476b60abf2506a912759ea1a2c38e4670409b10f"
  },
  "kernelspec": {
   "display_name": "Python 3.8.2 ('venv': venv)",
   "language": "python",
   "name": "python3"
  },
  "language_info": {
   "codemirror_mode": {
    "name": "ipython",
    "version": 3
   },
   "file_extension": ".py",
   "mimetype": "text/x-python",
   "name": "python",
   "nbconvert_exporter": "python",
   "pygments_lexer": "ipython3",
   "version": "3.8.2"
  }
 },
 "nbformat": 4,
 "nbformat_minor": 0
}
